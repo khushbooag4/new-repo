{
 "cells": [
  {
   "cell_type": "markdown",
   "metadata": {
    "id": "QUANWN3rpfC9"
   },
   "source": [
    "# 0. Setup Paths"
   ]
  },
  {
   "cell_type": "code",
   "execution_count": 1,
   "metadata": {
    "id": "146BB11JpfDA"
   },
   "outputs": [],
   "source": [
    "import os"
   ]
  },
  {
   "cell_type": "code",
   "execution_count": 2,
   "metadata": {
    "id": "42hJEdo_pfDB"
   },
   "outputs": [],
   "source": [
    "CUSTOM_MODEL_NAME = 'my_ssd_mobnet' \n",
    "PRETRAINED_MODEL_NAME = 'ssd_mobilenet_v2_fpnlite_320x320_coco17_tpu-8'\n",
    "PRETRAINED_MODEL_URL = 'http://download.tensorflow.org/models/object_detection/tf2/20200711/ssd_mobilenet_v2_fpnlite_320x320_coco17_tpu-8.tar.gz'\n",
    "TF_RECORD_SCRIPT_NAME = 'generate_tfrecord.py'\n",
    "LABEL_MAP_NAME = 'label_map.pbtxt'"
   ]
  },
  {
   "cell_type": "code",
   "execution_count": 3,
   "metadata": {
    "id": "hbPhYVy_pfDB"
   },
   "outputs": [],
   "source": [
    "paths = {\n",
    "    'WORKSPACE_PATH': os.path.join('Tensorflow', 'workspace'),\n",
    "    'SCRIPTS_PATH': os.path.join('Tensorflow','scripts'),\n",
    "    'APIMODEL_PATH': os.path.join('Tensorflow','models'),\n",
    "    'ANNOTATION_PATH': os.path.join('Tensorflow', 'workspace','annotations'),\n",
    "    'IMAGE_PATH': os.path.join('Tensorflow', 'workspace','images'),\n",
    "    'MODEL_PATH': os.path.join('Tensorflow', 'workspace','models'),\n",
    "    'PRETRAINED_MODEL_PATH': os.path.join('Tensorflow', 'workspace','pre-trained-models'),\n",
    "    'CHECKPOINT_PATH': os.path.join('Tensorflow', 'workspace','models',CUSTOM_MODEL_NAME), \n",
    "    'OUTPUT_PATH': os.path.join('Tensorflow', 'workspace','models',CUSTOM_MODEL_NAME, 'export'), \n",
    "    'TFJS_PATH':os.path.join('Tensorflow', 'workspace','models',CUSTOM_MODEL_NAME, 'tfjsexport'), \n",
    "    'TFLITE_PATH':os.path.join('Tensorflow', 'workspace','models',CUSTOM_MODEL_NAME, 'tfliteexport'), \n",
    "    'PROTOC_PATH':os.path.join('Tensorflow','protoc'),\n",
    "    'VIDEO_PATH': os.path.join('Tensorflow', 'workspace','images'),\n",
    " }"
   ]
  },
  {
   "cell_type": "code",
   "execution_count": 4,
   "metadata": {
    "id": "LwhWZMI0pfDC"
   },
   "outputs": [],
   "source": [
    "files = {\n",
    "    'PIPELINE_CONFIG':os.path.join('Tensorflow', 'workspace','models', CUSTOM_MODEL_NAME, 'pipeline.config'),\n",
    "    'TF_RECORD_SCRIPT': os.path.join(paths['SCRIPTS_PATH'], TF_RECORD_SCRIPT_NAME), \n",
    "    'LABELMAP': os.path.join(paths['ANNOTATION_PATH'], LABEL_MAP_NAME)\n",
    "}"
   ]
  },
  {
   "cell_type": "code",
   "execution_count": 5,
   "metadata": {
    "id": "HR-TfDGrpfDC"
   },
   "outputs": [],
   "source": [
    "for path in paths.values():\n",
    "    if not os.path.exists(path):\n",
    "        if os.name == 'posix':\n",
    "            !mkdir -p {path}\n",
    "        if os.name == 'nt':\n",
    "            !mkdir {path}"
   ]
  },
  {
   "cell_type": "markdown",
   "metadata": {
    "id": "OLU-rs_ipfDE"
   },
   "source": [
    "# 1. Download TF Models Pretrained Models from Tensorflow Model Zoo and Install TFOD"
   ]
  },
  {
   "cell_type": "code",
   "execution_count": null,
   "metadata": {},
   "outputs": [],
   "source": [
    "# https://www.tensorflow.org/install/source_windows"
   ]
  },
  {
   "cell_type": "code",
   "execution_count": null,
   "metadata": {
    "id": "K-Cmz2edpfDE",
    "scrolled": true
   },
   "outputs": [],
   "source": [
    "if os.name=='nt':\n",
    "    !pip install wget\n",
    "    import wget"
   ]
  },
  {
   "cell_type": "code",
   "execution_count": null,
   "metadata": {
    "id": "iA1DIq5OpfDE"
   },
   "outputs": [],
   "source": [
    "if not os.path.exists(os.path.join(paths['APIMODEL_PATH'], 'research', 'object_detection')):\n",
    "    !git clone https://github.com/tensorflow/models {paths['APIMODEL_PATH']}"
   ]
  },
  {
   "cell_type": "code",
   "execution_count": null,
   "metadata": {
    "id": "rJjMHbnDs3Tv"
   },
   "outputs": [],
   "source": [
    "# Install Tensorflow Object Detection \n",
    "if os.name=='posix':  \n",
    "    !apt-get install protobuf-compiler\n",
    "    !cd Tensorflow/models/research && protoc object_detection/protos/*.proto --python_out=. && cp object_detection/packages/tf2/setup.py . && python -m pip install . \n",
    "    \n",
    "if os.name=='nt':\n",
    "    url=\"https://github.com/protocolbuffers/protobuf/releases/download/v3.15.6/protoc-3.15.6-win64.zip\"\n",
    "    wget.download(url)\n",
    "    !move protoc-3.15.6-win64.zip {paths['PROTOC_PATH']}\n",
    "    !cd {paths['PROTOC_PATH']} && tar -xf protoc-3.15.6-win64.zip\n",
    "    os.environ['PATH'] += os.pathsep + os.path.abspath(os.path.join(paths['PROTOC_PATH'], 'bin'))   \n",
    "    !cd Tensorflow/models/research && protoc object_detection/protos/*.proto --python_out=. && copy object_detection\\\\packages\\\\tf2\\\\setup.py setup.py && python setup.py build && python setup.py install\n",
    "    !cd Tensorflow/models/research/slim && pip install -e . "
   ]
  },
  {
   "cell_type": "code",
   "execution_count": null,
   "metadata": {},
   "outputs": [],
   "source": [
    "import tensorflow.compat.v1 as tf"
   ]
  },
  {
   "cell_type": "code",
   "execution_count": null,
   "metadata": {},
   "outputs": [],
   "source": [
    "!pip uninstall tensorflow -y\n",
    "!pip install tensorflow==2.9.0 "
   ]
  },
  {
   "cell_type": "code",
   "execution_count": null,
   "metadata": {
    "scrolled": true
   },
   "outputs": [],
   "source": [
    "VERIFICATION_SCRIPT = os.path.join(paths['APIMODEL_PATH'], 'research', 'object_detection', 'builders', 'model_builder_tf2_test.py')\n",
    "# Verify Installation|}\"\"\n",
    "!python {VERIFICATION_SCRIPT}"
   ]
  },
  {
   "cell_type": "code",
   "execution_count": null,
   "metadata": {
    "scrolled": true
   },
   "outputs": [],
   "source": [
    "!pip install numpy==1.23.5"
   ]
  },
  {
   "cell_type": "code",
   "execution_count": null,
   "metadata": {},
   "outputs": [],
   "source": [
    "!pip install tensorflow==2.9.0 tensorflow-gpu==2.9.0 --upgrade"
   ]
  },
  {
   "cell_type": "code",
   "execution_count": null,
   "metadata": {},
   "outputs": [],
   "source": [
    "!pip uninstall protobuf matplotlib -y\n",
    "!pip install protobuf matplotlib==3.2"
   ]
  },
  {
   "cell_type": "code",
   "execution_count": null,
   "metadata": {},
   "outputs": [],
   "source": [
    "!pip install Pillow"
   ]
  },
  {
   "cell_type": "code",
   "execution_count": null,
   "metadata": {},
   "outputs": [],
   "source": [
    "!pip install pyyaml"
   ]
  },
  {
   "cell_type": "code",
   "execution_count": null,
   "metadata": {},
   "outputs": [],
   "source": [
    "import object_detection"
   ]
  },
  {
   "cell_type": "code",
   "execution_count": null,
   "metadata": {
    "colab": {
     "base_uri": "https://localhost:8080/"
    },
    "id": "csofht2npfDE",
    "outputId": "ff5471b2-bed2-43f2-959c-327a706527b6"
   },
   "outputs": [],
   "source": [
    "if os.name =='posix':\n",
    "    !wget {PRETRAINED_MODEL_URL}\n",
    "    !mv {PRETRAINED_MODEL_NAME+'.tar.gz'} {paths['PRETRAINED_MODEL_PATH']}\n",
    "    !cd {paths['PRETRAINED_MODEL_PATH']} && tar -zxvf {PRETRAINED_MODEL_NAME+'.tar.gz'}\n",
    "if os.name == 'nt':\n",
    "    wget.download(PRETRAINED_MODEL_URL)\n",
    "    !move {PRETRAINED_MODEL_NAME+'.tar.gz'} {paths['PRETRAINED_MODEL_PATH']}\n",
    "    !cd {paths['PRETRAINED_MODEL_PATH']} && tar -zxvf {PRETRAINED_MODEL_NAME+'.tar.gz'}"
   ]
  },
  {
   "cell_type": "markdown",
   "metadata": {
    "id": "M5KJTnkfpfDC"
   },
   "source": [
    "# 2. Create Label Map"
   ]
  },
  {
   "cell_type": "code",
   "execution_count": null,
   "metadata": {
    "id": "p1BVDWo7pfDC"
   },
   "outputs": [],
   "source": [
    "labels = [{'name':'number_plate', 'id':1}]\n",
    "\n",
    "with open(files['LABELMAP'], 'w') as f:\n",
    "    for label in labels:\n",
    "        f.write('item { \\n')\n",
    "        f.write('\\tname:\\'{}\\'\\n'.format(label['name']))\n",
    "        f.write('\\tid:{}\\n'.format(label['id']))\n",
    "        f.write('}\\n')"
   ]
  },
  {
   "cell_type": "markdown",
   "metadata": {
    "id": "C88zyVELpfDC"
   },
   "source": [
    "# 3. Create TF records"
   ]
  },
  {
   "cell_type": "code",
   "execution_count": null,
   "metadata": {
    "colab": {
     "base_uri": "https://localhost:8080/"
    },
    "id": "kvf5WccwrFGq",
    "outputId": "49902aeb-0bd7-4298-e1a0-5b4a64eb2064"
   },
   "outputs": [],
   "source": [
    "# OPTIONAL IF RUNNING ON COLAB\n",
    "ARCHIVE_FILES = os.path.join(paths['IMAGE_PATH'], 'archive.tar.gz')\n",
    "if os.path.exists(ARCHIVE_FILES):\n",
    "  !tar -zxvf {ARCHIVE_FILES}"
   ]
  },
  {
   "cell_type": "code",
   "execution_count": null,
   "metadata": {
    "colab": {
     "base_uri": "https://localhost:8080/"
    },
    "id": "KWpb_BVUpfDD",
    "outputId": "56ce2a3f-3933-4ee6-8a9d-d5ec65f7d73c"
   },
   "outputs": [],
   "source": [
    "if not os.path.exists(files['TF_RECORD_SCRIPT']):\n",
    "    !git clone https://github.com/nicknochnack/GenerateTFRecord {paths['SCRIPTS_PATH']}"
   ]
  },
  {
   "cell_type": "code",
   "execution_count": null,
   "metadata": {},
   "outputs": [],
   "source": [
    "!pip install pytz"
   ]
  },
  {
   "cell_type": "code",
   "execution_count": null,
   "metadata": {
    "colab": {
     "base_uri": "https://localhost:8080/"
    },
    "id": "UPFToGZqpfDD",
    "outputId": "0ebb456f-aadc-4a1f-96e6-fbfec1923e1c"
   },
   "outputs": [],
   "source": [
    "!python {files['TF_RECORD_SCRIPT']} -x {os.path.join(paths['IMAGE_PATH'], 'train')} -l {files['LABELMAP']} -o {os.path.join(paths['ANNOTATION_PATH'], 'train.record')} \n",
    "!python {files['TF_RECORD_SCRIPT']} -x {os.path.join(paths['IMAGE_PATH'], 'test')} -l {files['LABELMAP']} -o {os.path.join(paths['ANNOTATION_PATH'], 'test.record')} "
   ]
  },
  {
   "cell_type": "markdown",
   "metadata": {
    "id": "qT4QU7pLpfDE"
   },
   "source": [
    "# 4. Copy Model Config to Training Folder"
   ]
  },
  {
   "cell_type": "code",
   "execution_count": null,
   "metadata": {
    "id": "cOjuTFbwpfDF"
   },
   "outputs": [],
   "source": [
    "if os.name =='posix':\n",
    "    !cp {os.path.join(paths['PRETRAINED_MODEL_PATH'], PRETRAINED_MODEL_NAME, 'pipeline.config')} {os.path.join(paths['CHECKPOINT_PATH'])}\n",
    "if os.name == 'nt':\n",
    "    !copy {os.path.join(paths['PRETRAINED_MODEL_PATH'], PRETRAINED_MODEL_NAME, 'pipeline.config')} {os.path.join(paths['CHECKPOINT_PATH'])}"
   ]
  },
  {
   "cell_type": "markdown",
   "metadata": {
    "id": "Ga8gpNslpfDF"
   },
   "source": [
    "# 5. Update Config For Transfer Learning"
   ]
  },
  {
   "cell_type": "code",
   "execution_count": null,
   "metadata": {
    "id": "Z9hRrO_ppfDF"
   },
   "outputs": [],
   "source": [
    "import tensorflow as tf\n",
    "from object_detection.utils import config_util\n",
    "from object_detection.protos import pipeline_pb2\n",
    "from google.protobuf import text_format"
   ]
  },
  {
   "cell_type": "code",
   "execution_count": null,
   "metadata": {
    "id": "c2A0mn4ipfDF"
   },
   "outputs": [],
   "source": [
    "config = config_util.get_configs_from_pipeline_file(files['PIPELINE_CONFIG'])"
   ]
  },
  {
   "cell_type": "code",
   "execution_count": null,
   "metadata": {
    "colab": {
     "base_uri": "https://localhost:8080/"
    },
    "id": "uQA13-afpfDF",
    "outputId": "907496a4-a39d-4b13-8c2c-e5978ecb1f10"
   },
   "outputs": [],
   "source": [
    "config"
   ]
  },
  {
   "cell_type": "code",
   "execution_count": null,
   "metadata": {
    "id": "9vK5lotDpfDF"
   },
   "outputs": [],
   "source": [
    "pipeline_config = pipeline_pb2.TrainEvalPipelineConfig()\n",
    "with tf.io.gfile.GFile(files['PIPELINE_CONFIG'], \"r\") as f:                                                                                                                                                                                                                     \n",
    "    proto_str = f.read()                                                                                                                                                                                                                                          \n",
    "    text_format.Merge(proto_str, pipeline_config)  "
   ]
  },
  {
   "cell_type": "code",
   "execution_count": null,
   "metadata": {
    "id": "rP43Ph0JpfDG"
   },
   "outputs": [],
   "source": [
    "pipeline_config.model.ssd.num_classes = len(labels)\n",
    "pipeline_config.train_config.batch_size = 4\n",
    "pipeline_config.train_config.fine_tune_checkpoint = os.path.join(paths['PRETRAINED_MODEL_PATH'], PRETRAINED_MODEL_NAME, 'checkpoint', 'ckpt-0')\n",
    "pipeline_config.train_config.fine_tune_checkpoint_type = \"detection\"\n",
    "pipeline_config.train_input_reader.label_map_path= files['LABELMAP']\n",
    "pipeline_config.train_input_reader.tf_record_input_reader.input_path[:] = [os.path.join(paths['ANNOTATION_PATH'], 'train.record')]\n",
    "pipeline_config.eval_input_reader[0].label_map_path = files['LABELMAP']\n",
    "pipeline_config.eval_input_reader[0].tf_record_input_reader.input_path[:] = [os.path.join(paths['ANNOTATION_PATH'], 'test.record')]"
   ]
  },
  {
   "cell_type": "code",
   "execution_count": null,
   "metadata": {
    "id": "oJvfgwWqpfDG"
   },
   "outputs": [],
   "source": [
    "config_text = text_format.MessageToString(pipeline_config)                                                                                                                                                                                                        \n",
    "with tf.io.gfile.GFile(files['PIPELINE_CONFIG'], \"wb\") as f:                                                                                                                                                                                                                     \n",
    "    f.write(config_text)   "
   ]
  },
  {
   "cell_type": "markdown",
   "metadata": {
    "id": "Zr3ON7xMpfDG"
   },
   "source": [
    "# 6. Train the model"
   ]
  },
  {
   "cell_type": "code",
   "execution_count": null,
   "metadata": {
    "id": "B-Y2UQmQpfDG"
   },
   "outputs": [],
   "source": [
    "TRAINING_SCRIPT = os.path.join(paths['APIMODEL_PATH'], 'research', 'object_detection', 'model_main_tf2.py')"
   ]
  },
  {
   "cell_type": "code",
   "execution_count": null,
   "metadata": {
    "id": "jMP2XDfQpfDH"
   },
   "outputs": [],
   "source": [
    "command = \"python {} --model_dir={} --pipeline_config_path={} --num_train_steps=10000\".format(TRAINING_SCRIPT, paths['CHECKPOINT_PATH'],files['PIPELINE_CONFIG'])"
   ]
  },
  {
   "cell_type": "code",
   "execution_count": null,
   "metadata": {
    "colab": {
     "base_uri": "https://localhost:8080/"
    },
    "id": "A4OXXi-ApfDH",
    "outputId": "117a0e83-012b-466e-b7a6-ccaa349ac5ab"
   },
   "outputs": [],
   "source": [
    "print(command)"
   ]
  },
  {
   "cell_type": "code",
   "execution_count": null,
   "metadata": {
    "colab": {
     "base_uri": "https://localhost:8080/"
    },
    "id": "i3ZsJR-qpfDH",
    "outputId": "cabec5e1-45e6-4f2f-d9cf-297d9c1d0225"
   },
   "outputs": [],
   "source": [
    "!{command}"
   ]
  },
  {
   "cell_type": "code",
   "execution_count": null,
   "metadata": {},
   "outputs": [],
   "source": [
    "%load_ext tensorboard\n",
    "%tensorboard --logdir=."
   ]
  },
  {
   "cell_type": "markdown",
   "metadata": {
    "id": "4_YRZu7npfDH"
   },
   "source": [
    "# 7. Evaluate the Model"
   ]
  },
  {
   "cell_type": "code",
   "execution_count": null,
   "metadata": {
    "id": "80L7-fdPpfDH"
   },
   "outputs": [],
   "source": [
    "command = \"python {} --model_dir={} --pipeline_config_path={} --checkpoint_dir={}\".format(TRAINING_SCRIPT, paths['CHECKPOINT_PATH'],files['PIPELINE_CONFIG'], paths['CHECKPOINT_PATH'])"
   ]
  },
  {
   "cell_type": "code",
   "execution_count": null,
   "metadata": {},
   "outputs": [],
   "source": [
    "INPUT_TYPE=image_tensor\n",
    "PIPELINE_CONFIG_PATH=files['PIPELINE_CONFIG']\n",
    "TRAINED_CKPT_PREFIX=paths['CHECKPOINT_PATH']o\n",
    "EXPORT_DIR=paths['OUTPUT_PATH']\n",
    "\n",
    "command = \"python object_detection/export_inference_graph.py \\\n",
    "    --input_type=${INPUT_TYPE} \\\n",
    "    --pipeline_config_path=${PIPELINE_CONFIG_PATH} \\\n",
    "    --trained_checkpoint_prefix=${TRAINED_CKPT_PREFIX} \\\n",
    "    --output_directory=${EXPORT_DIR}\"\n",
    "print(command)\n",
    "\n",
    "python Tensorflow\\models\\research\\object_detection\\model_main_tf2.py --model_dir=Tensorflow\\workspace\\models\\my_ssd_mobnet --pipeline_config_path=Tensorflow\\workspace\\models\\my_ssd_mobnet\\pipeline.config --checkpoint_dir=Tensorflow\\workspace\\models\\my_ssd_mobnet --output_directory=--checkpoint_dir=Tensorflow\\workspace\\models\\my_ssd_mobnet\\export"
   ]
  },
  {
   "cell_type": "code",
   "execution_count": null,
   "metadata": {
    "colab": {
     "base_uri": "https://localhost:8080/"
    },
    "id": "lYsgEPx9pfDH",
    "outputId": "8632d48b-91d2-45d9-bcb8-c1b172bf6eed"
   },
   "outputs": [],
   "source": [
    "print(command)"
   ]
  },
  {
   "cell_type": "code",
   "execution_count": null,
   "metadata": {
    "id": "lqTV2jGBpfDH"
   },
   "outputs": [],
   "source": [
    "!{command}"
   ]
  },
  {
   "cell_type": "code",
   "execution_count": null,
   "metadata": {},
   "outputs": [],
   "source": [
    "MODEL_PATH  = paths['MODEL_PATH']\n",
    "MODEL_SAVE_PATH = paths['TFLITE_PATH']\n",
    "converter = tf.lite.TFLiteConverter.from_saved_model(MODEL_PATH ,signature_keys=['serving_default'])\n",
    "converter.optimizations = [tf.lite.Optimize.DEFAULT]\n",
    "converter.experimental_new_converter = True\n",
    "converter.target_spec.supported_ops = [tf.lite.OpsSet.TFLITE_BUILTINS, tf.lite.OpsSet.SELECT_TF_OPS]\n",
    "\n",
    "tflite_model = converter.convert()\n",
    "with tf.io.gfile.GFile(MODEL_SAVE_PATH, 'wb') as f:\n",
    "  f.write(tflite_model)"
   ]
  },
  {
   "cell_type": "markdown",
   "metadata": {
    "id": "orvRk02UpfDI"
   },
   "source": [
    "# 8. Load Train Model From Checkpoint"
   ]
  },
  {
   "cell_type": "code",
   "execution_count": 6,
   "metadata": {
    "id": "8TYk4_oIpfDI",
    "scrolled": true
   },
   "outputs": [],
   "source": [
    "import tensorflow as tf\n",
    "from object_detection.utils import label_map_util\n",
    "from object_detection.utils import visualization_utils as viz_utils\n",
    "from object_detection.utils import config_util"
   ]
  },
  {
   "cell_type": "code",
   "execution_count": 7,
   "metadata": {},
   "outputs": [],
   "source": [
    "import time\n",
    "from object_detection.builders import model_builder"
   ]
  },
  {
   "cell_type": "code",
   "execution_count": 8,
   "metadata": {},
   "outputs": [],
   "source": [
    "# Prevent GPU complete consumption\n",
    "gpus = tf.config.list_physical_devices('GPU')\n",
    "if gpus:\n",
    "    try: \n",
    "        tf.config.experimental.set_virtual_device_configuration(\n",
    "            gpus[0], [tf.config.experimental.VirtualDeviceConfiguration(memory_limit=5120)])\n",
    "    except RunTimeError as e:\n",
    "        print(e)"
   ]
  },
  {
   "cell_type": "code",
   "execution_count": 9,
   "metadata": {
    "id": "tDnQg-cYpfDI"
   },
   "outputs": [],
   "source": [
    "# Load pipeline config and build a detection model\n",
    "configs = config_util.get_configs_from_pipeline_file(files['PIPELINE_CONFIG'])\n",
    "detection_model = model_builder.build(model_config=configs['model'], is_training=False)\n",
    "\n",
    "# Restore checkpoint\n",
    "ckpt = tf.compat.v2.train.Checkpoint(model=detection_model)\n",
    "ckpt.restore(os.path.join(paths['CHECKPOINT_PATH'], 'ckpt-22')).expect_partial()\n",
    "\n",
    "@tf.function\n",
    "def detect_fn(image):\n",
    "    image, shapes = detection_model.preprocess(image)\n",
    "    prediction_dict = detection_model.predict(image, shapes)\n",
    "    detections = detection_model.postprocess(prediction_dict, shapes)\n",
    "    return detections"
   ]
  },
  {
   "cell_type": "markdown",
   "metadata": {},
   "source": [
    "## Zoom In to the Images - Want to Clear Images from the Video"
   ]
  },
  {
   "cell_type": "code",
   "execution_count": null,
   "metadata": {},
   "outputs": [],
   "source": [
    "import cv2"
   ]
  },
  {
   "cell_type": "code",
   "execution_count": null,
   "metadata": {
    "scrolled": false
   },
   "outputs": [],
   "source": [
    "def zoom_at(img, zoom=1, angle=0, coord=None):\n",
    "    cy, cx = [i/2 for i in img.shape[:-1] ] if coord is None else coord[::-1]\n",
    "    \n",
    "    rot_mat = cv2.getRotationaMatrix2D((cx, cy), angle, zoom)\n",
    "    result = cv2.warpAffine(img, rot_mat, img.shape[1::-1]. flags=cv2.INTER_LINEAR)\n",
    "    return result"
   ]
  },
  {
   "cell_type": "code",
   "execution_count": null,
   "metadata": {},
   "outputs": [],
   "source": [
    "IMAGE_PATH = os.path.join(paths['IMAGE_PATH'], 'train', 'Datacluster_number_plates (1).jng')\n",
    "img = cv2.imread(IMAGE_PATH)\n",
    "cv2.imwrite(IMAGE_PATH, zoom_at(img, 1.5, coord=(264.5, 275)))"
   ]
  },
  {
   "cell_type": "markdown",
   "metadata": {},
   "source": [
    "## 11. Detect from an Video - Create frames"
   ]
  },
  {
   "cell_type": "code",
   "execution_count": null,
   "metadata": {},
   "outputs": [],
   "source": [
    "files_paths = {\n",
    "    'OUTPUT_PATH': os.path.join('Tensorflow', 'workspace','images'), \n",
    "    'INPUT_PATH': os.path.join('Tensorflow', 'workspace', 'images', 'test-video'),\n",
    "    'INTIAL_PATH': 'C:\\\\Users\\\\user'\n",
    "}"
   ]
  },
  {
   "cell_type": "code",
   "execution_count": null,
   "metadata": {},
   "outputs": [],
   "source": [
    "for path in files_paths.values():\n",
    "    if not os.path.exists(path):\n",
    "        if os.name == 'posix':\n",
    "            !mkdir -p {path}\n",
    "        if os.name == 'nt':\n",
    "            !mkdir {path}"
   ]
  },
  {
   "cell_type": "code",
   "execution_count": null,
   "metadata": {},
   "outputs": [],
   "source": [
    "# Importing all necessary libraries\n",
    "import cv2\n",
    "import os\n",
    "import time\n",
    "\n",
    "# Read the video from specified path\n",
    "video_path = os.path.join(files_paths['INPUT_PATH'], 'Sample.mp4')\n",
    "#cam = cv2.VideoCapture(r'C:\\Users\\user\\Tensorflow\\workspace\\images\\test-video\\sample2.avi')\n",
    "cam = cv2.VideoCapture(video_path)\n",
    "ret, frame = cam.read()\n",
    "length = int(cam.get(cv2.CAP_PROP_FRAME_COUNT))\n",
    "print(ret)"
   ]
  },
  {
   "cell_type": "code",
   "execution_count": null,
   "metadata": {},
   "outputs": [],
   "source": [
    "os.chdir(files_paths['OUTPUT_PATH'])"
   ]
  },
  {
   "cell_type": "code",
   "execution_count": null,
   "metadata": {
    "scrolled": true
   },
   "outputs": [],
   "source": [
    "os.getcwd()"
   ]
  },
  {
   "cell_type": "code",
   "execution_count": null,
   "metadata": {},
   "outputs": [],
   "source": [
    "currentframe = 0\n",
    "frame_count = length\n",
    "prev_frame = None\n",
    "while (True):\n",
    "    ret, frame = cam.read()\n",
    "    if ret:\n",
    "        name = './data/frame' + str(currentframe) + '.jpg'\n",
    "        print('Creating...' + name)\n",
    "        if prev_frame is not None and (frame == prev_frame).all():\n",
    "            print(\"hello\")\n",
    "            continue;\n",
    "        cv2.imwrite(name, frame)\n",
    "        currentframe += 1\n",
    "        prev_frame = frame\n",
    "        if(currentframe >= frame_count):\n",
    "            break\n",
    "    else:\n",
    "        break\n",
    "\n",
    "# Release all space and windows once done\n",
    "cam.release()\n",
    "cv2.destroyAllWindows()"
   ]
  },
  {
   "cell_type": "code",
   "execution_count": null,
   "metadata": {},
   "outputs": [],
   "source": [
    "try:\n",
    "    # creating a folder named data\n",
    "    if not os.path.exists('data'):\n",
    "        os.makedirs('data')\n",
    "\n",
    "    # if not created then raise error\n",
    "except OSError:\n",
    "    print('Error: Creating directory of data')\n",
    "\n",
    "# frame\n",
    "currentframe = 0\n",
    "\n",
    "while (True):\n",
    "    \n",
    "    # reading from frame\n",
    "    ret, frame = cam.read()\n",
    "\n",
    "    if ret:\n",
    "        # if video is still left continue creating images\n",
    "        name = './data/frame' + str(currentframe) + '.jpg'\n",
    "        print('Creating...' + name)\n",
    "\n",
    "        # writing the extracted images\n",
    "        cv2.imwrite(name, frame)\n",
    "        time.sleep(1) # take schreenshot every 5 seconds\n",
    "\n",
    "        # increasing counter so that it will\n",
    "        # show how many frames are created\n",
    "        currentframe += 1\n",
    "    else:\n",
    "        break\n",
    "\n",
    "# Release all space and windows once done\n",
    "cam.release()\n",
    "cv2.destroyAllWindows()"
   ]
  },
  {
   "cell_type": "code",
   "execution_count": null,
   "metadata": {},
   "outputs": [],
   "source": [
    "import cv2\n",
    "vidcap = cv2.VideoCapture(video_path)\n",
    "def getFrame(sec):\n",
    "    vidcap.set(cv2.CAP_PROP_POS_MSEC,sec*1000)\n",
    "    hasFrames,image = vidcap.read()\n",
    "    if hasFrames:\n",
    "        cv2.imwrite(\"image\"+str(count)+\".jpg\", image)     # save frame as JPG file\n",
    "    return hasFrames\n",
    "sec = 0\n",
    "frameRate = 0.5 #//it will capture image in each 0.5 second\n",
    "count=1\n",
    "success = getFrame(sec)\n",
    "while success:\n",
    "    count = count + 1\n",
    "    sec = sec + frameRate\n",
    "    sec = round(sec, 2)\n",
    "    success = getFrame(sec)"
   ]
  },
  {
   "cell_type": "markdown",
   "metadata": {
    "id": "0EmsmbBZpfDI"
   },
   "source": [
    "# 9. Detect from an Image"
   ]
  },
  {
   "cell_type": "code",
   "execution_count": 10,
   "metadata": {
    "id": "Y_MKiuZ4pfDI"
   },
   "outputs": [],
   "source": [
    "import cv2\n",
    "import numpy as np\n",
    "from matplotlib import pyplot as plt\n",
    "%matplotlib inline"
   ]
  },
  {
   "cell_type": "code",
   "execution_count": 11,
   "metadata": {
    "id": "cBDbIhNapfDI"
   },
   "outputs": [],
   "source": [
    "category_index = label_map_util.create_category_index_from_labelmap(files['LABELMAP'])"
   ]
  },
  {
   "cell_type": "code",
   "execution_count": 23,
   "metadata": {
    "id": "Lx3crOhOzITB"
   },
   "outputs": [],
   "source": [
    "#IMAGE_PATH = os.path.join(paths['IMAGE_PATH'], 'train', 'Datacluster_number_plates (1).jpg')\n",
    "IMAGE_PATH = os.path.join(paths['IMAGE_PATH'], 'train', 'test_image.png')"
   ]
  },
  {
   "cell_type": "code",
   "execution_count": 24,
   "metadata": {},
   "outputs": [],
   "source": [
    "image = cv2.imread(IMAGE_PATH)"
   ]
  },
  {
   "cell_type": "code",
   "execution_count": 25,
   "metadata": {},
   "outputs": [],
   "source": [
    "import easyocr\n",
    "detection_threshold = 0.7"
   ]
  },
  {
   "cell_type": "code",
   "execution_count": 26,
   "metadata": {
    "colab": {
     "base_uri": "https://localhost:8080/",
     "height": 269
    },
    "id": "Tpzn1SMry1yK",
    "outputId": "c392a2c5-10fe-4fc4-9998-a1d4c7db2bd3"
   },
   "outputs": [
    {
     "name": "stdout",
     "output_type": "stream",
     "text": [
      "done\n"
     ]
    },
    {
     "data": {
      "image/png": "[encoded data removed]",
      "text/plain": [
       "<Figure size 640x480 with 1 Axes>"
      ]
     },
     "metadata": {},
     "output_type": "display_data"
    }
   ],
   "source": [
    "image_np = np.array(image)\n",
    "input_tensor = tf.convert_to_tensor(np.expand_dims(image_np, 0), dtype=tf.float32)\n",
    "detections = detect_fn(input_tensor)\n",
    "num_detections = int(detections.pop('num_detections'))\n",
    "detections = {key: value[0, :num_detections].numpy()\n",
    "              for key, value in detections.items()}\n",
    "detections['num_detections'] = num_detections\n",
    "\n",
    "# detection_classes should be ints.\n",
    "detections['detection_classes'] = detections['detection_classes'].astype(np.int64)\n",
    "label_id_offset = 1\n",
    "image_np_with_detections = image_np.copy()\n",
    "###########\n",
    "# image_p = cv2.resize(image_np_with_detections, None, fx = 2, fy = 2)\n",
    "# binary = cv2.adaptiveThreshold()\n",
    "# kernel = np.ones((3,3), np.unit8)\n",
    "# image_np_with_detections = preprocess_image(image_np_with_detections)\n",
    "#############\n",
    "\n",
    "viz_utils.visualize_boxes_and_labels_on_image_array(\n",
    "            image_np_with_detections,\n",
    "            detections['detection_boxes'],\n",
    "            detections['detection_classes']+label_id_offset,\n",
    "            detections['detection_scores'],\n",
    "            category_index,\n",
    "            use_normalized_coordinates=True,\n",
    "            max_boxes_to_draw=5,\n",
    "            min_score_thresh=.8,\n",
    "            agnostic_mode=False)\n",
    "print('done')\n",
    "\n",
    "plt.imshow(image_np_with_detections)\n",
    "plt.show()"
   ]
  },
  {
   "cell_type": "code",
   "execution_count": 37,
   "metadata": {},
   "outputs": [
    {
     "name": "stderr",
     "output_type": "stream",
     "text": [
      "WARNING:easyocr.easyocr:Neither CUDA nor MPS are available - defaulting to CPU. Note: This module is much faster with a GPU.\n"
     ]
    },
    {
     "name": "stdout",
     "output_type": "stream",
     "text": [
      "[]\n"
     ]
    }
   ],
   "source": [
    "image = image_np_with_detections\n",
    "image = resize_with_aspect(image, 600)\n",
    "image = contrast(image)\n",
    "image = clean_plate(image, 600)\n",
    "image = cv2.bitwise_not(image)\n",
    "cv2.imshow(\"image\", image)\n",
    "cv2.waitKey(0)\n",
    "cv2.destroyAllWindows()\n",
    "scores = list(filter(lambda x: x> detection_threshold, detections['detection_scores']))\n",
    "boxes = detections['detection_boxes'][:len(scores)]\n",
    "classes = detections['detection_classes'][:len(scores)]\n",
    "width = image.shape[1]\n",
    "height = image.shape[0]\n",
    "# Apply ROI filtering and OCR\n",
    "ocr_result = []\n",
    "for idx, box in enumerate(boxes):\n",
    "    roi = box*[height, width, height, width]\n",
    "#     print(roi)\n",
    "    region = image[int(roi[0]):int(roi[2]),int(roi[1]):int(roi[3])]\n",
    "    reader = easyocr.Reader(['en'])\n",
    "    ocr_result = reader.readtext(region)    \n",
    "    print(ocr_result)\n",
    "#     plt.imshow(cv2.cvtColor(region, cv2.COLOR_BGR2RGB))\n",
    "for result in ocr_result:\n",
    "    #print(np.sum(np.subtract(result[0][2],result[0][1])))\n",
    "    print(result[1].upper())"
   ]
  },
  {
   "cell_type": "code",
   "execution_count": 28,
   "metadata": {},
   "outputs": [],
   "source": [
    "import cv2\n",
    "import numpy as np\n",
    "import sys, os\n",
    "import imutils\n",
    "from skimage.filters import threshold_local\n",
    "from skimage import measure"
   ]
  },
  {
   "cell_type": "code",
   "execution_count": 52,
   "metadata": {},
   "outputs": [],
   "source": [
    "import os\n",
    "import cv2\n",
    "import numpy as np\n",
    "import math\n",
    "import random\n",
    "\n",
    "kNearest = cv2.ml.KNearest_create()\n",
    "MIN_PIXEL_WIDTH = 2\n",
    "MIN_PIXEL_HEIGHT = 8\n",
    "MIN_ASPECT_RATIO = 0.25\n",
    "MAX_ASPECT_RATIO = 1.0\n",
    "MIN_PIXEL_AREA = 80\n",
    "MIN_DIAG_SIZE_MULTIPLE_AWAY = 0.3\n",
    "MAX_DIAG_SIZE_MULTIPLE_AWAY = 5.0\n",
    "MAX_CHANGE_IN_AREA = 0.5\n",
    "MAX_CHANGE_IN_WIDTH = 0.8\n",
    "MAX_CHANGE_IN_HEIGHT = 0.2\n",
    "MAX_ANGLE_BETWEEN_CHARS = 12.0\n",
    "MIN_NUMBER_OF_MATCHING_CHARS = 3\n",
    "RESIZED_CHAR_IMAGE_WIDTH = 20\n",
    "RESIZED_CHAR_IMAGE_HEIGHT = 30\n",
    "MIN_CONTOUR_AREA = 100\n",
    "\n",
    "\n",
    "\n",
    "def detectCharsInPlates(listOfPossiblePlates):\n",
    "    intPlateCounter = 0\n",
    "    imgContours = None\n",
    "    contours = []\n",
    "    if len(listOfPossiblePlates) == 0:\n",
    "        return listOfPossiblePlates\n",
    "    for possiblePlate in listOfPossiblePlates:\n",
    "        possiblePlate.imgGrayscale, possiblePlate.imgThresh = refining.preprocess(possiblePlate.imgPlate)\n",
    "        cv2.imshow(\"5a\", possiblePlate.imgPlate)\n",
    "        cv2.imshow(\"5b\", possiblePlate.imgGrayscale)\n",
    "        cv2.imshow(\"5c\", possiblePlate.imgThresh)\n",
    "        possiblePlate.imgThresh = cv2.resize(possiblePlate.imgThresh, (0, 0), fx = 1.6, fy = 1.6)\n",
    "        thresholdValue, possiblePlate.imgThresh = cv2.threshold(possiblePlate.imgThresh, 0.0, 255.0, cv2.THRESH_BINARY | cv2.THRESH_OTSU)\n",
    "        cv2.imshow(\"5d\", possiblePlate.imgThresh)\n",
    "        listOfPossibleCharsInPlate = findPossibleCharsInPlate(possiblePlate.imgGrayscale, possiblePlate.imgThresh)\n",
    "        height, width, numChannels = possiblePlate.imgPlate.shape\n",
    "        imgContours = np.zeros((height, width, 3), np.uint8)\n",
    "        del contours[:]\n",
    "        for possibleChar in listOfPossibleCharsInPlate:\n",
    "            contours.append(possibleChar.contour)\n",
    "        cv2.drawContours(imgContours, contours, -1, product.SCALAR_WHITE)\n",
    "        cv2.imshow(\"6\", imgContours)\n",
    "        listOfListsOfMatchingCharsInPlate = findListOfListsOfMatchingChars(listOfPossibleCharsInPlate)\n",
    "        imgContours = np.zeros((height, width, 3), np.uint8)\n",
    "        del contours[:]\n",
    "        for listOfMatchingChars in listOfListsOfMatchingCharsInPlate:\n",
    "            intRandomBlue = random.randint(0, 255)\n",
    "            intRandomGreen = random.randint(0, 255)\n",
    "            intRandomRed = random.randint(0, 255)\n",
    "            for matchingChar in listOfMatchingChars:\n",
    "                contours.append(matchingChar.contour)\n",
    "            cv2.drawContours(imgContours, contours, -1, (intRandomBlue, intRandomGreen, intRandomRed))\n",
    "        cv2.imshow(\"7\", imgContours)\n",
    "        if (len(listOfListsOfMatchingCharsInPlate) == 0):\n",
    "            print(\"chars found in plate number \" + str(\n",
    "                intPlateCounter) + \" = (none), click on any image and press a key to continue . . .\")\n",
    "            intPlateCounter = intPlateCounter + 1\n",
    "            cv2.destroyWindow(\"8\")\n",
    "            cv2.destroyWindow(\"9\")\n",
    "            cv2.destroyWindow(\"10\")\n",
    "            cv2.waitKey(0)\n",
    "            possiblePlate.strChars = \"\"\n",
    "            continue\n",
    "        for i in range(0, len(listOfListsOfMatchingCharsInPlate)):\n",
    "            listOfListsOfMatchingCharsInPlate[i].sort(key = lambda matchingChar: matchingChar.intCenterX)\n",
    "            listOfListsOfMatchingCharsInPlate[i] = removeInnerOverlappingChars(listOfListsOfMatchingCharsInPlate[i])\n",
    "            imgContours = np.zeros((height, width, 3), np.uint8)\n",
    "            for listOfMatchingChars in listOfListsOfMatchingCharsInPlate:\n",
    "                intRandomBlue = random.randint(0, 255)\n",
    "                intRandomGreen = random.randint(0, 255)\n",
    "                intRandomRed = random.randint(0, 255)\n",
    "                del contours[:]\n",
    "                for matchingChar in listOfMatchingChars:\n",
    "                    contours.append(matchingChar.contour)\n",
    "                cv2.drawContours(imgContours, contours, -1, (intRandomBlue, intRandomGreen, intRandomRed))\n",
    "            cv2.imshow(\"8\", imgContours)\n",
    "        intLenOfLongestListOfChars = 0\n",
    "        intIndexOfLongestListOfChars = 0\n",
    "        for i in range(0, len(listOfListsOfMatchingCharsInPlate)):\n",
    "            if len(listOfListsOfMatchingCharsInPlate[i]) > intLenOfLongestListOfChars:\n",
    "                intLenOfLongestListOfChars = len(listOfListsOfMatchingCharsInPlate[i])\n",
    "                intIndexOfLongestListOfChars = i\n",
    "        longestListOfMatchingCharsInPlate = listOfListsOfMatchingCharsInPlate[intIndexOfLongestListOfChars]\n",
    "        imgContours = np.zeros((height, width, 3), np.uint8)\n",
    "        del contours[:]\n",
    "        for matchingChar in longestListOfMatchingCharsInPlate:\n",
    "            contours.append(matchingChar.contour)\n",
    "        cv2.drawContours(imgContours, contours, -1, product.SCALAR_WHITE)\n",
    "        cv2.imshow(\"9\", imgContours)\n",
    "        possiblePlate.strChars = recognizeCharsInPlate(possiblePlate.imgThresh, longestListOfMatchingCharsInPlate)\n",
    "        print(\"chars found in plate number \" + str(\n",
    "            intPlateCounter) + \" = \" + possiblePlate.strChars + \", click on any image and press a key to continue . . .\")\n",
    "        intPlateCounter = intPlateCounter + 1\n",
    "        cv2.waitKey(0)\n",
    "    print(\"\\nchar detection complete, click on any image and press a key to continue . . .\\n\")\n",
    "    cv2.waitKey(0)\n",
    "    return listOfPossiblePlates\n",
    "def loadKNNDataAndTrainKNN():\n",
    "    allContoursWithData = []\n",
    "    validContoursWithData = []\n",
    "    try:\n",
    "        npaClassifications = np.loadtxt(\"classifications.txt\", np.float32)\n",
    "    except:\n",
    "        print(\"error, unable to open classifications.txt, exiting program\\n\")\n",
    "        os.system(\"pause\")\n",
    "        return False\n",
    "    try:\n",
    "        npaFlattenedImages = np.loadtxt(\"flattened_images.txt\", np.float32)\n",
    "    except:\n",
    "        print(\"error, unable to open flattened_images.txt, exiting program\\n\")\n",
    "        os.system(\"pause\")\n",
    "        return False\n",
    "    npaClassifications = npaClassifications.reshape((npaClassifications.size, 1))\n",
    "    kNearest.setDefaultK(1)\n",
    "    kNearest.train(npaFlattenedImages, cv2.ml.ROW_SAMPLE, npaClassifications)\n",
    "    return True\n",
    "\n",
    "def checkIfPossibleChar(possibleChar):\n",
    "    if (possibleChar.intBoundingRectArea > MIN_PIXEL_AREA and\n",
    "        possibleChar.intBoundingRectWidth > MIN_PIXEL_WIDTH and possibleChar.intBoundingRectHeight > MIN_PIXEL_HEIGHT and\n",
    "        MIN_ASPECT_RATIO < possibleChar.fltAspectRatio and possibleChar.fltAspectRatio < MAX_ASPECT_RATIO):\n",
    "        return True\n",
    "    else:\n",
    "        return False\n",
    "def findPossibleCharsInPlate(imgGrayscale, imgThresh):\n",
    "    listOfPossibleChars = []\n",
    "    contours = []\n",
    "    imgThreshCopy = imgThresh.copy()\n",
    "    imgContours, contours, npaHierarchy = cv2.findContours(imgThreshCopy, cv2.RETR_LIST, cv2.CHAIN_APPROX_SIMPLE)\n",
    "    for contour in contours:\n",
    "        possibleChar = total_char.PossibleChar(contour)\n",
    "        if checkIfPossibleChar(possibleChar):\n",
    "            listOfPossibleChars.append(possibleChar)\n",
    "    return listOfPossibleChars\n",
    "\n",
    "\n",
    "def findListOfMatchingChars(possibleChar, listOfChars):\n",
    "    listOfMatchingChars = []\n",
    "    for possibleMatchingChar in listOfChars:\n",
    "        if possibleMatchingChar == possibleChar:\n",
    "            continue\n",
    "        fltDistanceBetweenChars = distanceBetweenChars(possibleChar, possibleMatchingChar)\n",
    "        fltAngleBetweenChars = angleBetweenChars(possibleChar, possibleMatchingChar)\n",
    "        fltChangeInArea = float(abs(possibleMatchingChar.intBoundingRectArea - possibleChar.intBoundingRectArea)) / float(possibleChar.intBoundingRectArea)\n",
    "        fltChangeInWidth = float(abs(possibleMatchingChar.intBoundingRectWidth - possibleChar.intBoundingRectWidth)) / float(possibleChar.intBoundingRectWidth)\n",
    "        fltChangeInHeight = float(abs(possibleMatchingChar.intBoundingRectHeight - possibleChar.intBoundingRectHeight)) / float(possibleChar.intBoundingRectHeight)\n",
    "        if (fltDistanceBetweenChars < (possibleChar.fltDiagonalSize * MAX_DIAG_SIZE_MULTIPLE_AWAY) and\n",
    "            fltAngleBetweenChars < MAX_ANGLE_BETWEEN_CHARS and\n",
    "            fltChangeInArea < MAX_CHANGE_IN_AREA and\n",
    "            fltChangeInWidth < MAX_CHANGE_IN_WIDTH and\n",
    "            fltChangeInHeight < MAX_CHANGE_IN_HEIGHT):\n",
    "            listOfMatchingChars.append(possibleMatchingChar)\n",
    "    return listOfMatchingChars\n",
    "def findListOfListsOfMatchingChars(listOfPossibleChars):\n",
    "    listOfListsOfMatchingChars = []\n",
    "    for possibleChar in listOfPossibleChars:\n",
    "        listOfMatchingChars = findListOfMatchingChars(possibleChar, listOfPossibleChars)\n",
    "        listOfMatchingChars.append(possibleChar)\n",
    "        if len(listOfMatchingChars) < MIN_NUMBER_OF_MATCHING_CHARS:\n",
    "            continue\n",
    "        listOfListsOfMatchingChars.append(listOfMatchingChars)\n",
    "        listOfPossibleCharsWithCurrentMatchesRemoved = []\n",
    "        listOfPossibleCharsWithCurrentMatchesRemoved = list(set(listOfPossibleChars) - set(listOfMatchingChars))\n",
    "        recursiveListOfListsOfMatchingChars = findListOfListsOfMatchingChars(listOfPossibleCharsWithCurrentMatchesRemoved)\n",
    "        for recursiveListOfMatchingChars in recursiveListOfListsOfMatchingChars:\n",
    "            listOfListsOfMatchingChars.append(recursiveListOfMatchingChars)\n",
    "        break\n",
    "    return listOfListsOfMatchingChars\n",
    "\n",
    "\n",
    "def angleBetweenChars(firstChar, secondChar):\n",
    "    fltAdj = float(abs(firstChar.intCenterX - secondChar.intCenterX))\n",
    "    fltOpp = float(abs(firstChar.intCenterY - secondChar.intCenterY))\n",
    "    if fltAdj != 0.0:\n",
    "        fltAngleInRad = math.atan(fltOpp / fltAdj)\n",
    "    else:\n",
    "        fltAngleInRad = 1.5708\n",
    "    fltAngleInDeg = fltAngleInRad * (180.0 / math.pi)\n",
    "    return fltAngleInDeg\n",
    "def distanceBetweenChars(firstChar, secondChar):\n",
    "    intX = abs(firstChar.intCenterX - secondChar.intCenterX)\n",
    "    intY = abs(firstChar.intCenterY - secondChar.intCenterY)\n",
    "    return math.sqrt((intX ** 2) + (intY ** 2))\n",
    "def recognizeCharsInPlate(imgThresh, listOfMatchingChars):\n",
    "    strChars = \"\"\n",
    "    height, width = imgThresh.shape\n",
    "    imgThreshColor = np.zeros((height, width, 3), np.uint8)\n",
    "    listOfMatchingChars.sort(key = lambda matchingChar: matchingChar.intCenterX)\n",
    "    cv2.cvtColor(imgThresh, cv2.COLOR_GRAY2BGR, imgThreshColor)\n",
    "    for currentChar in listOfMatchingChars:\n",
    "        pt1 = (currentChar.intBoundingRectX, currentChar.intBoundingRectY)\n",
    "        pt2 = ((currentChar.intBoundingRectX + currentChar.intBoundingRectWidth), (currentChar.intBoundingRectY + currentChar.intBoundingRectHeight))\n",
    "        cv2.rectangle(imgThreshColor, pt1, pt2, product.SCALAR_GREEN, 2)\n",
    "        imgROI = imgThresh[currentChar.intBoundingRectY : currentChar.intBoundingRectY + currentChar.intBoundingRectHeight,\n",
    "                           currentChar.intBoundingRectX : currentChar.intBoundingRectX + currentChar.intBoundingRectWidth]\n",
    "        imgROIResized = cv2.resize(imgROI, (RESIZED_CHAR_IMAGE_WIDTH, RESIZED_CHAR_IMAGE_HEIGHT))\n",
    "        npaROIResized = imgROIResized.reshape((1, RESIZED_CHAR_IMAGE_WIDTH * RESIZED_CHAR_IMAGE_HEIGHT))\n",
    "        npaROIResized = np.float32(npaROIResized)\n",
    "        retval, npaResults, neigh_resp, dists = kNearest.findNearest(npaROIResized, k = 1)\n",
    "        strCurrentChar = str(chr(int(npaResults[0][0])))\n",
    "        strChars = strChars + strCurrentChar\n",
    "    cv2.imshow(\"10\", imgThreshColor)\n",
    "    return strChars\n",
    "def removeInnerOverlappingChars(listOfMatchingChars):\n",
    "    listOfMatchingCharsWithInnerCharRemoved = list(listOfMatchingChars)\n",
    "    for currentChar in listOfMatchingChars:\n",
    "        for otherChar in listOfMatchingChars:\n",
    "            if currentChar != otherChar:\n",
    "                if distanceBetweenChars(currentChar, otherChar) < (currentChar.fltDiagonalSize * MIN_DIAG_SIZE_MULTIPLE_AWAY):\n",
    "                    if currentChar.intBoundingRectArea < otherChar.intBoundingRectArea:\n",
    "                        if currentChar in listOfMatchingCharsWithInnerCharRemoved:\n",
    "                            listOfMatchingCharsWithInnerCharRemoved.remove(currentChar)\n",
    "                    else:\n",
    "                        if otherChar in listOfMatchingCharsWithInnerCharRemoved:\n",
    "                            listOfMatchingCharsWithInnerCharRemoved.remove(otherChar)\n",
    "    return listOfMatchingCharsWithInnerCharRemoved"
   ]
  },
  {
   "cell_type": "code",
   "execution_count": 56,
   "metadata": {},
   "outputs": [],
   "source": [
    "import cv2\n",
    "import numpy as np\n",
    "import math\n",
    "import random\n",
    "PLATE_WIDTH_PADDING_FACTOR = 1.3\n",
    "PLATE_HEIGHT_PADDING_FACTOR = 1.5\n",
    "\n",
    "\n",
    "def findPossibleCharsInScene(imgThresh):\n",
    "    listOfPossibleChars = []\n",
    "    intCountOfPossibleChars = 0\n",
    "    imgThreshCopy = imgThresh.copy()\n",
    "    imgContours, contours, npaHierarchy = cv2.findContours(imgThreshCopy, cv2.RETR_LIST, cv2.CHAIN_APPROX_SIMPLE)\n",
    "    height, width = imgThresh.shape\n",
    "    imgContours = np.zeros((height, width, 3), np.uint8)\n",
    "    for i in range(0, len(contours)):\n",
    "        cv2.drawContours(imgContours, contours, i, product.SCALAR_WHITE)\n",
    "        possibleChar = total_char.PossibleChar(contours[i])\n",
    "        if checkIfPossibleChar(possibleChar):\n",
    "            intCountOfPossibleChars = intCountOfPossibleChars + 1\n",
    "            listOfPossibleChars.append(possibleChar)  \n",
    "    print(\"\\nstep 2 - len(contours) = \" + str(len(contours)))\n",
    "    print(\"step 2 - intCountOfPossibleChars = \" + str(intCountOfPossibleChars))\n",
    "    cv2.imshow(\"2a\", imgContours)\n",
    "    return listOfPossibleChars\n",
    "\n",
    "def extractPlate(imgOriginal, listOfMatchingChars):\n",
    "    possiblePlate = total_plate.PossiblePlate()\n",
    "    listOfMatchingChars.sort(key = lambda matchingChar: matchingChar.intCenterX)\n",
    "    fltPlateCenterX = (listOfMatchingChars[0].intCenterX + listOfMatchingChars[len(listOfMatchingChars) - 1].intCenterX) / 2.0\n",
    "    fltPlateCenterY = (listOfMatchingChars[0].intCenterY + listOfMatchingChars[len(listOfMatchingChars) - 1].intCenterY) / 2.0\n",
    "    ptPlateCenter = fltPlateCenterX, fltPlateCenterY\n",
    "    intPlateWidth = int((listOfMatchingChars[len(listOfMatchingChars) - 1].intBoundingRectX + listOfMatchingChars[len(listOfMatchingChars) - 1].intBoundingRectWidth - listOfMatchingChars[0].intBoundingRectX) * PLATE_WIDTH_PADDING_FACTOR)\n",
    "    intTotalOfCharHeights = 0\n",
    "    for matchingChar in listOfMatchingChars:\n",
    "        intTotalOfCharHeights = intTotalOfCharHeights + matchingChar.intBoundingRectHeight\n",
    "    fltAverageCharHeight = intTotalOfCharHeights / len(listOfMatchingChars)\n",
    "    intPlateHeight = int(fltAverageCharHeight * PLATE_HEIGHT_PADDING_FACTOR)\n",
    "    fltOpposite = listOfMatchingChars[len(listOfMatchingChars) - 1].intCenterY - listOfMatchingChars[0].intCenterY\n",
    "    fltHypotenuse = distanceBetweenChars(listOfMatchingChars[0], listOfMatchingChars[len(listOfMatchingChars) - 1])\n",
    "    fltCorrectionAngleInRad = math.asin(fltOpposite / fltHypotenuse)\n",
    "    fltCorrectionAngleInDeg = fltCorrectionAngleInRad * (180.0 / math.pi)\n",
    "    possiblePlate.rrLocationOfPlateInScene = ( tuple(ptPlateCenter), (intPlateWidth, intPlateHeight), fltCorrectionAngleInDeg )\n",
    "    rotationMatrix = cv2.getRotationMatrix2D(tuple(ptPlateCenter), fltCorrectionAngleInDeg, 1.0)\n",
    "    height, width, numChannels = imgOriginal.shape\n",
    "    imgRotated = cv2.warpAffine(imgOriginal, rotationMatrix, (width, height))\n",
    "    imgCropped = cv2.getRectSubPix(imgRotated, (intPlateWidth, intPlateHeight), tuple(ptPlateCenter))\n",
    "    possiblePlate.imgPlate = imgCropped\n",
    "    return possiblePlate\n",
    "\n",
    "def detectPlatesInScene(imgOriginalScene):\n",
    "    listOfPossiblePlates = []\n",
    "    height, width, numChannels = imgOriginalScene.shape\n",
    "    imgGrayscaleScene = np.zeros((height, width, 1), np.uint8)\n",
    "    imgThreshScene = np.zeros((height, width, 1), np.uint8)\n",
    "    imgContours = np.zeros((height, width, 3), np.uint8)\n",
    "    cv2.destroyAllWindows()\n",
    "    cv2.imshow(\"0\", imgOriginalScene)\n",
    "    imgGrayscaleScene, imgThreshScene = refining.preprocess(imgOriginalScene)\n",
    "    cv2.imshow(\"1a\", imgGrayscaleScene)\n",
    "    cv2.imshow(\"1b\", imgThreshScene)\n",
    "    listOfPossibleCharsInScene = findPossibleCharsInScene(imgThreshScene)\n",
    "    print(\"step 2 - len(listOfPossibleCharsInScene) = \" + str(len(listOfPossibleCharsInScene)))\n",
    "    imgContours = np.zeros((height, width, 3), np.uint8)\n",
    "    contours = []\n",
    "    for possibleChar in listOfPossibleCharsInScene:\n",
    "        contours.append(possibleChar.contour)\n",
    "    cv2.drawContours(imgContours, contours, -1, product.SCALAR_WHITE)\n",
    "    cv2.imshow(\"2b\", imgContours)\n",
    "    listOfListsOfMatchingCharsInScene = findListOfListsOfMatchingChars(listOfPossibleCharsInScene)\n",
    "    print(\"step 3 - listOfListsOfMatchingCharsInScene.Count = \" + str(len(listOfListsOfMatchingCharsInScene)))\n",
    "    imgContours = np.zeros((height, width, 3), np.uint8)\n",
    "    for listOfMatchingChars in listOfListsOfMatchingCharsInScene:\n",
    "        intRandomBlue = random.randint(0, 255)\n",
    "        intRandomGreen = random.randint(0, 255)\n",
    "        intRandomRed = random.randint(0, 255)\n",
    "        contours = []\n",
    "        for matchingChar in listOfMatchingChars:\n",
    "            contours.append(matchingChar.contour)\n",
    "        cv2.drawContours(imgContours, contours, -1, (intRandomBlue, intRandomGreen, intRandomRed))\n",
    "    cv2.imshow(\"3\", imgContours)\n",
    "    for listOfMatchingChars in listOfListsOfMatchingCharsInScene:\n",
    "        possiblePlate = extractPlate(imgOriginalScene, listOfMatchingChars)\n",
    "        if possiblePlate.imgPlate is not None:\n",
    "            listOfPossiblePlates.append(possiblePlate)\n",
    "    print(\"\\n\" + str(len(listOfPossiblePlates)) + \" possible plates found\")  # 13 with MCLRNF1 image\n",
    "    print(\"\\n\")\n",
    "    cv2.imshow(\"4a\", imgContours)\n",
    "    for i in range(0, len(listOfPossiblePlates)):\n",
    "        p2fRectPoints = cv2.boxPoints(listOfPossiblePlates[i].rrLocationOfPlateInScene)\n",
    "        cv2.line(imgContours, tuple(p2fRectPoints[0]), tuple(p2fRectPoints[1]), product.SCALAR_RED, 2)\n",
    "        cv2.line(imgContours, tuple(p2fRectPoints[1]), tuple(p2fRectPoints[2]), product.SCALAR_RED, 2)\n",
    "        cv2.line(imgContours, tuple(p2fRectPoints[2]), tuple(p2fRectPoints[3]), product.SCALAR_RED, 2)\n",
    "        cv2.line(imgContours, tuple(p2fRectPoints[3]), tuple(p2fRectPoints[0]), product.SCALAR_RED, 2)\n",
    "        cv2.imshow(\"4a\", imgContours)\n",
    "        print(\"possible plate \" + str(i) + \", click on any image and press a key to continue . . .\")\n",
    "        cv2.imshow(\"4b\", listOfPossiblePlates[i].imgPlate)\n",
    "        cv2.waitKey(0)\n",
    "    print(\"\\nplate detection complete, click on any image and press a key to begin char recognition . . .\\n\")\n",
    "    cv2.waitKey(0)\n",
    "    return listOfPossiblePlates"
   ]
  },
  {
   "cell_type": "code",
   "execution_count": 57,
   "metadata": {},
   "outputs": [
    {
     "ename": "NameError",
     "evalue": "name 'refining' is not defined",
     "output_type": "error",
     "traceback": [
      "\u001b[1;31m---------------------------------------------------------------------------\u001b[0m",
      "\u001b[1;31mNameError\u001b[0m                                 Traceback (most recent call last)",
      "Cell \u001b[1;32mIn[57], line 1\u001b[0m\n\u001b[1;32m----> 1\u001b[0m \u001b[43mdetectPlatesInScene\u001b[49m\u001b[43m(\u001b[49m\u001b[43mimage_np_with_detections\u001b[49m\u001b[43m)\u001b[49m\n",
      "Cell \u001b[1;32mIn[56], line 59\u001b[0m, in \u001b[0;36mdetectPlatesInScene\u001b[1;34m(imgOriginalScene)\u001b[0m\n\u001b[0;32m     57\u001b[0m cv2\u001b[38;5;241m.\u001b[39mdestroyAllWindows()\n\u001b[0;32m     58\u001b[0m cv2\u001b[38;5;241m.\u001b[39mimshow(\u001b[38;5;124m\"\u001b[39m\u001b[38;5;124m0\u001b[39m\u001b[38;5;124m\"\u001b[39m, imgOriginalScene)\n\u001b[1;32m---> 59\u001b[0m imgGrayscaleScene, imgThreshScene \u001b[38;5;241m=\u001b[39m \u001b[43mrefining\u001b[49m\u001b[38;5;241m.\u001b[39mpreprocess(imgOriginalScene)\n\u001b[0;32m     60\u001b[0m cv2\u001b[38;5;241m.\u001b[39mimshow(\u001b[38;5;124m\"\u001b[39m\u001b[38;5;124m1a\u001b[39m\u001b[38;5;124m\"\u001b[39m, imgGrayscaleScene)\n\u001b[0;32m     61\u001b[0m cv2\u001b[38;5;241m.\u001b[39mimshow(\u001b[38;5;124m\"\u001b[39m\u001b[38;5;124m1b\u001b[39m\u001b[38;5;124m\"\u001b[39m, imgThreshScene)\n",
      "\u001b[1;31mNameError\u001b[0m: name 'refining' is not defined"
     ]
    }
   ],
   "source": [
    "detectPlatesInScene(image_np_with_detections)"
   ]
  },
  {
   "cell_type": "code",
   "execution_count": null,
   "metadata": {},
   "outputs": [],
   "source": []
  },
  {
   "cell_type": "code",
   "execution_count": null,
   "metadata": {},
   "outputs": [],
   "source": []
  },
  {
   "cell_type": "code",
   "execution_count": null,
   "metadata": {},
   "outputs": [],
   "source": []
  },
  {
   "cell_type": "code",
   "execution_count": null,
   "metadata": {},
   "outputs": [],
   "source": []
  },
  {
   "cell_type": "code",
   "execution_count": 40,
   "metadata": {},
   "outputs": [],
   "source": [
    "def contrast(img: np.ndarray) -> np.ndarray:\n",
    "    \"\"\"Improves contrast to deal with blurry images\n",
    "\n",
    "    Args:\n",
    "        img (np.ndarray): Image\n",
    "\n",
    "    Returns:\n",
    "        img2 (np.ndarray): high-contrast image\n",
    "    \"\"\"\n",
    "    # CLAHE (Contrast Limited Adaptive Histogram Equalization)\n",
    "    clahe=cv2.createCLAHE(clipLimit=3., tileGridSize=(8,8))\n",
    "\n",
    "    lab=cv2.cvtColor(img, cv2.COLOR_BGR2LAB)  # convert from BGR to LAB color space\n",
    "    l,a,b=cv2.split(lab)  # split on 3 different channels\n",
    "\n",
    "    l2=clahe.apply(l)  # apply CLAHE to the L-channel\n",
    "\n",
    "    lab=cv2.merge((l2,a,b))  # merge channels\n",
    "    img2=cv2.cvtColor(lab, cv2.COLOR_LAB2BGR)  # convert from LAB to BGR\n",
    "    return img2\n",
    "\n",
    "def resize_with_aspect(image: np.ndarray, width: int = 500) -> np.ndarray:\n",
    "    \"\"\"Resize the image while preserving the aspect ratio\n",
    "\n",
    "    Args:\n",
    "        image (np.ndarray): Image to be resized\n",
    "        width (int, optional): Width to be resized to. Defaults to 500.\n",
    "\n",
    "    Returns:\n",
    "        np.ndarray: Resized Image\n",
    "    \"\"\"\n",
    "    height = int(width/image.shape[1] * image.shape[0])\n",
    "    return cv2.resize(image, (width, height))\n",
    "\n",
    "def clean_plate(cvImage: np.ndarray, fixed_width: int) -> np.ndarray:\n",
    "    \"\"\"\n",
    "    Extract Value channel from the HSV format of image and apply adaptive thresholding\n",
    "    to reveal the characters on the license plate.\n",
    "    \"\"\"\n",
    "    plate_img = cvImage.copy()\n",
    "    V = cv2.split(cv2.cvtColor(plate_img, cv2.COLOR_BGR2HSV))[2]\n",
    "\n",
    "    T = threshold_local(V, 29, offset=15, method='gaussian')\n",
    "\n",
    "    thresh = (V > T).astype('uint8') * 255\n",
    "\n",
    "    thresh = cv2.bitwise_not(thresh)\n",
    "\n",
    "    \"\"\"At this point, we tried applying the tried and tested method of opening\n",
    "    and closing the image using erosion and dilation, which usually works well for removing noise.\n",
    "    However, in this case, it was also separating characters like 'N', which a thinner connection\n",
    "    between the 2 vertical lines. Thus, removing noise like this became a risk which would not pay off.\n",
    "    We found segmenting the characters based on size to be a better approach than this, but this could\n",
    "    be feasible if the letters and numbers were clear in all the images.\"\"\"\n",
    "\n",
    "    plate_img = imutils.resize(plate_img, width=fixed_width)\n",
    "    thresh = imutils.resize(thresh, width=fixed_width)\n",
    "    # Makes the letters slightly thicker\n",
    "    kernel = np.ones((3, 3),np.uint8)\n",
    "    thresh = cv2.morphologyEx(thresh, cv2.MORPH_DILATE, kernel)\n",
    "\n",
    "    return thresh\n",
    "\n",
    "def perform_segmentation(image: np.ndarray):\n",
    "    \"\"\"Performs Segmentation\n",
    "\n",
    "    Args:\n",
    "        image (np.ndarray): Image to be segmented\n",
    "\n",
    "    Returns:\n",
    "        list(np.ndarray): List of segmented images\n",
    "    \"\"\"\n",
    "    # Resizes the image, keeping the width fixed at 500\n",
    "    image = resize_with_aspect(image, 500)\n",
    "\n",
    "    # Increases contrast of the image using the CLAHE technique\n",
    "    image = contrast(image)\n",
    "\n",
    "    # Removes noise from coloured images\n",
    "    \n",
    "    # cv2.imshow(\"image\", image)\n",
    "    # cv2.waitKey(0)\n",
    "    # cv2.destroyAllWindows()\n",
    "\n",
    "\n",
    "    \"\"\"For PS1, we found out the skew angle by drawing a slanted rectangle as a bounding box,\n",
    "    around the largest detected contour of the image.\n",
    "    This approach fails for number plate detection as we are unable to draw the bounding rectangle\n",
    "    around the text due to the presence of the number plate itself.\"\"\"\n",
    "    # angle = getSkewAngle(image)\n",
    "    # new_img = rotateImage(image, -1.0 * angle)\n",
    "    # new_img = resize_with_aspect(new_img, 500)\n",
    "\n",
    "\n",
    "    new_img = image\n",
    "\n",
    "\n",
    "    iwl_bb = clean_plate(new_img, 500)\n",
    "    iwl_wb = cv2.bitwise_not(iwl_bb)\n",
    "    # cv2.imshow(\"iwl_bb\", iwl_bb)\n",
    "    # cv2.imshow(\"iwl_wb\", iwl_wb)\n",
    "    # cv2.waitKey(0)\n",
    "    # cv2.destroyAllWindows()\n",
    "\n",
    "\n",
    "    # Total area of the resized image.\n",
    "    img_area = iwl_bb.shape[1] * iwl_bb.shape[0]\n",
    "\n",
    "\n",
    "    \"\"\"Here we had the option of using RETR_EXTERNAL (or) RETR_TREE\"\"\"\n",
    "    _, contours,_=cv2.findContours(iwl_bb,cv2.RETR_TREE,cv2.CHAIN_APPROX_SIMPLE)\n",
    "    rectangles=[]\n",
    "\n",
    "    \"\"\"We have only selected contours that are of a size bigger that 1/200th Area of the image,\n",
    "    or are not bigger than half the image size.\n",
    "    A further classification of height not less that 1/5th of the image height, and\n",
    "    width not more than 1/5th of the image width was also added to remove the inherent noise\n",
    "    in the given number plate.\"\"\"\n",
    "    for cnt in contours:\n",
    "        if cv2.contourArea(cnt) > img_area / 2:\n",
    "            continue\n",
    "        if cv2.contourArea(cnt) > img_area / 200:\n",
    "            x,y,w,h=cv2.boundingRect(cnt)\n",
    "            if(h < (iwl_bb.shape[0] / 5) or w > (iwl_bb.shape[1] / 5)):\n",
    "                continue\n",
    "            rectangles.append([x,y,w,h])\n",
    "\n",
    "    \"Removing cases where a contour is inside another contour like in 'O' and 'D'\"\n",
    "    final_rect = []\n",
    "    for (x, y, w, h) in rectangles:\n",
    "        flag = True\n",
    "        for(x2, y2, w2, h2) in rectangles:\n",
    "            if x > x2 and y > y2 and x + w < x2 + w2 and y + h < y2 + h2:\n",
    "                flag = False\n",
    "                break\n",
    "        if flag:\n",
    "            final_rect.append([x,y,w,h])\n",
    "\n",
    "    rectangles = final_rect\n",
    "\n",
    "\n",
    "    rectangles.sort()\n",
    "    print(\"Number of characters recognized:\", len(rectangles))\n",
    "    \n",
    "\n",
    "    images = []\n",
    "\n",
    "    \"\"\"This part segments each image from the number plate based on the rectangle \n",
    "    coordinates received previously.\"\"\"\n",
    "    for i in range(len(rectangles)):\n",
    "        cv2.rectangle(iwl_wb,\n",
    "            (rectangles[i][0],rectangles[i][1]),\n",
    "            (rectangles[i][0]+rectangles[i][2],\n",
    "            rectangles[i][1]+rectangles[i][3]),\n",
    "            (0,255,0),\n",
    "            3\n",
    "        )\n",
    "        image=iwl_bb[\n",
    "            rectangles[i][1] : rectangles[i][1] + rectangles[i][3],\n",
    "            rectangles[i][0] : rectangles[i][0] + rectangles[i][2]\n",
    "        ]\n",
    "        larger = max(image.shape[0], image.shape[1])\n",
    "        smaller = min(image.shape[0], image.shape[1])\n",
    "        border=int(0.2 * larger)\n",
    "        # Adds a border around the cropped image.\n",
    "        image = cv2.copyMakeBorder(\n",
    "            image,\n",
    "            top = (larger - smaller) // 2 + border,\n",
    "            bottom = (larger - smaller) // 2 + int( 1 * border),\n",
    "            left = border,\n",
    "            right = int(1 * border),\n",
    "            borderType = cv2.BORDER_CONSTANT,\n",
    "            value = [0, 0, 0])\n",
    "        \n",
    "        # cv2.namedWindow(\"img_{}\".format(i), cv2.WINDOW_GUI_EXPANDED)\n",
    "        cv2.imshow(\"img_{}\".format(i), image)\n",
    "        images.append(image)\n",
    "    cv2.waitKey(0)\n",
    "    cv2.destroyAllWindows()\n",
    "    return images"
   ]
  },
  {
   "cell_type": "code",
   "execution_count": 32,
   "metadata": {},
   "outputs": [
    {
     "name": "stdout",
     "output_type": "stream",
     "text": [
      "Number of characters recognized: 1\n"
     ]
    },
    {
     "ename": "KeyboardInterrupt",
     "evalue": "",
     "output_type": "error",
     "traceback": [
      "\u001b[1;31m---------------------------------------------------------------------------\u001b[0m",
      "\u001b[1;31mKeyboardInterrupt\u001b[0m                         Traceback (most recent call last)",
      "Cell \u001b[1;32mIn[32], line 1\u001b[0m\n\u001b[1;32m----> 1\u001b[0m \u001b[43mperform_segmentation\u001b[49m\u001b[43m(\u001b[49m\u001b[43mimage\u001b[49m\u001b[43m)\u001b[49m\n",
      "Cell \u001b[1;32mIn[31], line 178\u001b[0m, in \u001b[0;36mperform_segmentation\u001b[1;34m(image)\u001b[0m\n\u001b[0;32m    176\u001b[0m     cv2\u001b[38;5;241m.\u001b[39mimshow(\u001b[38;5;124m\"\u001b[39m\u001b[38;5;124mimg_\u001b[39m\u001b[38;5;132;01m{}\u001b[39;00m\u001b[38;5;124m\"\u001b[39m\u001b[38;5;241m.\u001b[39mformat(i), image)\n\u001b[0;32m    177\u001b[0m     images\u001b[38;5;241m.\u001b[39mappend(image)\n\u001b[1;32m--> 178\u001b[0m \u001b[43mcv2\u001b[49m\u001b[38;5;241;43m.\u001b[39;49m\u001b[43mwaitKey\u001b[49m\u001b[43m(\u001b[49m\u001b[38;5;241;43m0\u001b[39;49m\u001b[43m)\u001b[49m\n\u001b[0;32m    179\u001b[0m cv2\u001b[38;5;241m.\u001b[39mdestroyAllWindows()\n\u001b[0;32m    180\u001b[0m \u001b[38;5;28;01mreturn\u001b[39;00m images\n",
      "\u001b[1;31mKeyboardInterrupt\u001b[0m: "
     ]
    }
   ],
   "source": [
    "perform_segmentation(image)"
   ]
  },
  {
   "cell_type": "code",
   "execution_count": null,
   "metadata": {},
   "outputs": [],
   "source": [
    "import cv2\n",
    "# Function to preprocess the image\n",
    "def preprocess_image(image):\n",
    "    # Resize the image to a fixed size for consistent character recognition\n",
    "    print(image.shape)\n",
    "    image = cv2.resize(image, (800, 600))  # Adjust the dimensions as needed\n",
    "    \n",
    "    # Convert the image to grayscale\n",
    "    gray = cv2.cvtColor(image, cv2.COLOR_BGR2GRAY)\n",
    "    \n",
    "    # Apply Gaussian blur to reduce noise\n",
    "    blurred = cv2.GaussianBlur(gray, (5, 5), 0)\n",
    "    \n",
    "    # Apply adaptive thresholding to binarize the image\n",
    "    thresholded = cv2.adaptiveThreshold(blurred, 255, cv2.ADAPTIVE_THRESH_GAUSSIAN_C, cv2.THRESH_BINARY, 11, 2)\n",
    "    \n",
    "    # Sharpen the image to enhance character edges\n",
    "    kernel = np.array([[-1,-1,-1],[-1,9,-1],[-1,-1,-1]])\n",
    "    sharpened = cv2.filter2D(thresholded, -1, kernel)\n",
    "    \n",
    "    color_image = cv2.cvtColor(sharpened, cv2.COLOR_GRAY2BGR)\n",
    "    return color_image\n",
    "\n",
    "def sharpen_image(image):\n",
    "    # Create a sharpening kernel\n",
    "    kernel = np.array([[-1,-1,-1],[-1,9,-1],[-1,-1,-1]])\n",
    "    \n",
    "    # Apply the kernel to the image\n",
    "    sharpened = cv2.filter2D(image, -1, kernel)\n",
    "    \n",
    "    return sharpened\n",
    "\n",
    "def resize_image(image):\n",
    "    img = cv2.cvtColor(image, cv2.COLOR_BGR2GRAY)\n",
    "    img = cv2.resize(img, (600, 800))\n",
    "    _, result = cv2.threshold(img, 20, 255, cv2.THRESH_BINARY)\n",
    "    adaptive_threshold = cv2.adaptiveThreshold(img, 255, cv2.ADAPTIVE_THRESH_GAUSSIAN_C, cv2.THRESH_BINARY, 41, 5)\n",
    "    adaptive_threshold = cv2.cvtColor(adaptive_threshold, cv2.COLOR_GRAY2BGR)\n",
    "    return adaptive_threshold\n",
    "\n",
    "def preprocess_roi(image):\n",
    "    roi = cv2.resize(roi, (800, 600))\n",
    "    gray_roi = cv2.cvtColor(roi, cvt.cvtColo)\n",
    "                       \n",
    "plt.imshow(resize_image(image))\n",
    "plt.show()\n",
    "plt.imshow(image)\n",
    "plt.show()"
   ]
  },
  {
   "cell_type": "code",
   "execution_count": null,
   "metadata": {},
   "outputs": [],
   "source": [
    "image = cv2.imread(IMAGE_PATH)\n",
    "gray = cv2.cvtColor(image, cv2.COLOR_BGR2GRAY)\n",
    "\n",
    "# Apply Gaussian blur to reduce noise\n",
    "blurred = cv2.GaussianBlur(gray, (5, 5), 0)\n",
    "\n",
    "# Use adaptive thresholding to binarize the image\n",
    "binary = cv2.adaptiveThreshold(blurred, 255, cv2.ADAPTIVE_THRESH_GAUSSIAN_C, cv2.THRESH_BINARY, 11, 2)\n",
    "\n",
    "# Invert the binary image\n",
    "binary = cv2.bitwise_not(binary)\n",
    "\n",
    "# Dilate the image to connect broken characters\n",
    "kernel = np.ones((3, 3), np.uint8)\n",
    "dilated = cv2.dilate(binary, kernel, iterations=1)\n",
    "\n",
    "# Find contours in the dilated image\n",
    "_, contours, _ = cv2.findContours(dilated, cv2.RETR_EXTERNAL, cv2.CHAIN_APPROX_SIMPLE)\n",
    "\n",
    "# Filter and extract regions with potential text\n",
    "roi_candidates = []\n",
    "for contour in contours:\n",
    "    x, y, w, h = cv2.boundingRect(contour)\n",
    "    if 100 < w < 500 and 10 < h < 100:\n",
    "        roi_candidates.append((x, y, w, h))\n",
    "\n",
    "# Sort the candidates by X-coordinate\n",
    "roi_candidates.sort(key=lambda x: x[0])\n",
    "\n",
    "# # Extract and recognize text from ROIs\n",
    "# import pytesseract\n",
    "\n",
    "# for (x, y, w, h) in roi_candidates:\n",
    "#     roi = binary[y:y + h, x:x + w]\n",
    "#     text = pytesseract.image_to_string(roi, config='--psm 6')  # --psm 6 for treating the image as a single text line\n",
    "#     print(f\"Detected Text: {text}\")\n",
    "\n",
    "plt.imshow(binary)\n",
    "plt.show()"
   ]
  },
  {
   "cell_type": "code",
   "execution_count": null,
   "metadata": {},
   "outputs": [],
   "source": [
    "from PIL import Image\n",
    "Image.ANTIALIAS"
   ]
  },
  {
   "cell_type": "markdown",
   "metadata": {},
   "source": [
    "# Enhancement of Image"
   ]
  },
  {
   "cell_type": "code",
   "execution_count": null,
   "metadata": {},
   "outputs": [],
   "source": [
    "# Apply Gaussian blur to reduce noise\n",
    "image = cv2.imread('CarSample9.png')\n",
    "#print(img) or print(img.shape)\n",
    "gray = cv2.cvtColor(image, cv2.COLOR_BGR2GRAY)\n",
    "blurred = cv2.GaussianBlur(gray, (5, 5), 0)\n",
    "\n",
    "thresholded = cv2.adaptiveThreshold(blurred, 255, cv2.ADAPTIVE_THRESH_GAUSSIAN_C, cv2.THRESH_BINARY, 11, 2)\n",
    "# Apply morphological operations to clean the image\n",
    "kernel = np.ones((3, 3), np.uint8)\n",
    "morphed = cv2.morphologyEx(thresholded, cv2.MORPH_CLOSE, kernel)\n",
    "\n",
    "license_plate = None\n",
    "# Find contours in the image\n",
    "contours, _ = cv2.findContours(morphed, cv2.RETR_EXTERNAL, cv2.CHAIN_APPROX_SIMPLE)[-2:]\n",
    "print(contours)\n",
    "# Filter and extract the potential license plate contour\n",
    "for contour in contours:\n",
    "    if cv2.contourArea(contour) > 0 and cv2.contourArea(contour) < 30000:\n",
    "        x, y, w, h = cv2.boundingRect(contour)\n",
    "        aspect_ratio = w / h\n",
    "        license_plate = image[y:y + h, x:x + w] \n",
    "        cv2.rectangle(image, (x, y), (x + w, y + h), (0, 255, 0), 2)\n",
    "\n",
    "# Save the enhanced image\n",
    "# print(license_plate)\n",
    "# plt.imshow(cv2.cvtColor(license_plate, cv2.COLOR_BGR2RGB))\n",
    "# plt.show()\n",
    "# if(license_plate != None): \n",
    "cv2.imwrite('CarSample10.png', license_plate)\n",
    "cv2.imshow('Enhanced License Plate', license_plate)\n",
    "cv2.waitKey(0)\n",
    "cv2.destroyAllWindows()\n",
    "\n",
    "##High Accuracy-> OpenALR(OPTION) - Paid"
   ]
  },
  {
   "cell_type": "markdown",
   "metadata": {},
   "source": [
    "## Validation of an license plate / cleaning"
   ]
  },
  {
   "cell_type": "code",
   "execution_count": null,
   "metadata": {},
   "outputs": [],
   "source": [
    "import re\n",
    "\n",
    "def validate_vehicle_registration(registration_number):\n",
    "    # Define a regular expression pattern for the vehicle registration format without spaces\n",
    "    pattern = r'^[A-Z]{2}\\d{1,2}[A-HJ-NP-Z0-9]{0,3}\\d{1,4}$'\n",
    "    \n",
    "    # Define a list of valid state codes\n",
    "    valid_state_codes = [\"AP\", \"AR\", \"AS\", \"BR\", \"CG\", \"GA\", \"GJ\", \"HR\", \"HP\", \"JH\", \"KA\", \"KL\", \"MP\", \"MH\", \"MN\", \"ML\", \"MZ\", \"NL\", \"OR\", \"PB\", \"RJ\", \"SK\", \"TN\", \"TR\", \"UP\", \"UK\", \"WB\", \"AN\", \"CH\", \"DN\", \"DD\", \"DL\", \"JK\", \"LA\", \"LD\", \"PY\"]\n",
    "    \n",
    "    # Use re.match to check if the input matches the pattern\n",
    "    if re.match(pattern, registration_number):\n",
    "        state_code = registration_number[:2]\n",
    "        if state_code in valid_state_codes:\n",
    "            return True\n",
    "    return False\n",
    "\n",
    "\n",
    "# Test with the provided valid registration numbers\n",
    "valid_registration_numbers = [\"DL 1CS 2797\", \"HR 81B 2177\"]\n",
    "\n",
    "for registration_number in valid_registration_numbers:\n",
    "    if validate_vehicle_registration(registration_number):\n",
    "        print(f'{registration_number} is a valid registration number.')\n",
    "    else:\n",
    "        print(f'{registration_number} is not a valid registration number.')\n",
    "\n",
    "\n",
    "def validate_license_plate(license_plate):\n",
    "    # Define a regular expression pattern based on the provided rules\n",
    "    pattern = r'^[A-Z]{2}-\\d{2}-[A-NP-Z]{1,3}-\\d{1,4}$'\n",
    "    \n",
    "    # Check if the provided license plate matches the pattern\n",
    "    if re.match(pattern, license_plate):\n",
    "        return \"Valid License Plate\"\n",
    "    else:\n",
    "        return \"Invalid License Plate\"\n",
    "\n",
    "# Test with some license plate examples\n",
    "print(validate_vehicle_registration(\"22BH6517A\"))  # Should print \"Valid License Plate\"\n",
    "#print(validate_license_plate(\"XY-34-ZW-5678\"))  # Should print \"Invalid License Plate\"\n",
    "\n",
    "\n",
    "\n",
    "def clean_license_plate_text(ocr_text):\n",
    "    # Define a regular expression pattern to remove special characters\n",
    "    cleaned_text = re.sub(r'[^A-Za-z0-9\\- ]', '', ocr_text)\n",
    "    \n",
    "    return cleaned_text\n",
    "\n",
    "# Example usage:\n",
    "detected_text = \"1CS-2737,\"\n",
    "cleaned_text = clean_license_plate_text(detected_text)\n",
    "validate = validate_license_plate(cleaned_text)\n",
    "\n",
    "print(f\"Original Text: {detected_text}\")\n",
    "print(f\"Cleaned Text: {cleaned_text}\")\n"
   ]
  },
  {
   "cell_type": "markdown",
   "metadata": {},
   "source": [
    "## 10. Detection from Video"
   ]
  },
  {
   "cell_type": "code",
   "execution_count": null,
   "metadata": {
    "scrolled": true
   },
   "outputs": [],
   "source": [
    "import easyocr\n",
    "from os import listdir\n",
    "\n",
    "folderdir = os.path.join(paths['IMAGE_PATH'], 'sample-video')\n",
    "detection_threshold = 0.8\n",
    "filename = 'detection_results_2.csv'\n",
    "writeheader(filename, 'Detection_Images')\n",
    "index = 0\n",
    "for images in os.listdir(folderdir):\n",
    "    if(images.endswith('.jpg')):\n",
    "        IMAGE_PATH = os.path.join(paths['IMAGE_PATH'], 'sample-video',  images)\n",
    "        img = cv2.imread(IMAGE_PATH)\n",
    "        image_np = np.array(img)\n",
    "\n",
    "        input_tensor = tf.convert_to_tensor(np.expand_dims(image_np, 0), dtype=tf.float32)\n",
    "        detections = detect_fn(input_tensor)\n",
    "\n",
    "        num_detections = int(detections.pop('num_detections'))\n",
    "        detections = {key: value[0, :num_detections].numpy()\n",
    "                      for key, value in detections.items()}\n",
    "        detections['num_detections'] = num_detections\n",
    "\n",
    "        # detection_classes should be ints.\n",
    "        detections['detection_classes'] = detections['detection_classes'].astype(np.int64)\n",
    "\n",
    "        label_id_offset = 1\n",
    "        image_np_with_detections = image_np.copy()\n",
    "\n",
    "        viz_utils.visualize_boxes_and_labels_on_image_array(\n",
    "                    image_np_with_detections,\n",
    "                    detections['detection_boxes'],\n",
    "                    detections['detection_classes']+label_id_offset,\n",
    "                    detections['detection_scores'],\n",
    "                    category_index,\n",
    "                    use_normalized_coordinates=True,\n",
    "                    max_boxes_to_draw=5,\n",
    "                    min_score_thresh=.8,\n",
    "                    agnostic_mode=False)\n",
    "#         print('done')\n",
    "\n",
    "#         plt.imshow(cv2.cvtColor(image_np_with_detections, cv2.COLOR_BGR2RGB))\n",
    "#         plt.show()\n",
    "        image = image_np_with_detections\n",
    "        scores = list(filter(lambda x: x> detection_threshold, detections['detection_scores']))\n",
    "        boxes = detections['detection_boxes'][:len(scores)]\n",
    "        classes = detections['detection_classes'][:len(scores)]\n",
    "        width = image.shape[1]\n",
    "        height = image.shape[0]\n",
    "        \n",
    "        # Apply ROI filtering and OCR\n",
    "        for idx, box in enumerate(boxes):\n",
    "#             print(box)\n",
    "            roi = box*[height, width, height, width]\n",
    "#             print(roi)\n",
    "            region = image[int(roi[0]):int(roi[2]),int(roi[1]):int(roi[3])]\n",
    "            reader = easyocr.Reader(['en'])\n",
    "            ocr_result = reader.readtext(region)\n",
    "#             print(ocr_result)\n",
    "            plt.imshow(cv2.cvtColor(region, cv2.COLOR_BGR2RGB))\n",
    "            text = \"\"\n",
    "            for result in ocr_result:\n",
    "                np.sum(np.subtract(result[0][2],result[0][1]))\n",
    "                text += result[1].upper() + ''\n",
    "            cleaned_text = clean_license_plate_text(text)\n",
    "            print(cleaned_text)\n",
    "            save_results(index, cleaned_text, region, filename, 'Detection_Images')\n",
    "            index += 1\n",
    "            if(ocr_result):\n",
    "                plt.imshow(cv2.cvtColor(image_np_with_detections, cv2.COLOR_BGR2RGB))\n",
    "                plt.show()\n"
   ]
  },
  {
   "cell_type": "code",
   "execution_count": null,
   "metadata": {},
   "outputs": [],
   "source": [
    "results"
   ]
  },
  {
   "cell_type": "code",
   "execution_count": null,
   "metadata": {},
   "outputs": [],
   "source": [
    "detections.keys()"
   ]
  },
  {
   "cell_type": "code",
   "execution_count": null,
   "metadata": {
    "scrolled": true
   },
   "outputs": [],
   "source": [
    "plt.imshow(cv2.cvtColor(image_np_with_detections, cv2.COLOR_BGR2RGB))"
   ]
  },
  {
   "cell_type": "markdown",
   "metadata": {},
   "source": [
    "# Apply OCR to Detection"
   ]
  },
  {
   "cell_type": "code",
   "execution_count": null,
   "metadata": {},
   "outputs": [],
   "source": [
    "!pip install easyocr"
   ]
  },
  {
   "cell_type": "code",
   "execution_count": null,
   "metadata": {},
   "outputs": [],
   "source": [
    "!pip install torch torchvision torchaudio --index-url https://download.pytorch.org/whl/cu121"
   ]
  },
  {
   "cell_type": "code",
   "execution_count": null,
   "metadata": {},
   "outputs": [],
   "source": [
    "import easyocr"
   ]
  },
  {
   "cell_type": "code",
   "execution_count": null,
   "metadata": {},
   "outputs": [],
   "source": [
    "detection_threshold = 0.7"
   ]
  },
  {
   "cell_type": "code",
   "execution_count": null,
   "metadata": {},
   "outputs": [],
   "source": [
    "image = image_np_with_detections\n",
    "scores = list(filter(lambda x: x> detection_threshold, detections['detection_scores']))\n",
    "boxes = detections['detection_boxes'][:len(scores)]\n",
    "classes = detections['detection_classes'][:len(scores)]"
   ]
  },
  {
   "cell_type": "code",
   "execution_count": null,
   "metadata": {},
   "outputs": [],
   "source": [
    "width = image.shape[1]\n",
    "height = image.shape[0]"
   ]
  },
  {
   "cell_type": "code",
   "execution_count": null,
   "metadata": {},
   "outputs": [],
   "source": [
    "from torch import mps"
   ]
  },
  {
   "cell_type": "code",
   "execution_count": null,
   "metadata": {},
   "outputs": [],
   "source": [
    "# Apply ROI filtering and OCR\n",
    "for idx, box in enumerate(boxes):\n",
    "    print(box)\n",
    "    roi = box*[height, width, height, width]\n",
    "    print(roi)\n",
    "    region = image[int(roi[0]):int(roi[2]),int(roi[1]):int(roi[3])]\n",
    "    reader = easyocr.Reader(['en'])\n",
    "    ocr_result = reader.readtext(region)\n",
    "    print(ocr_result)\n",
    "    plt.imshow(cv2.cvtColor(region, cv2.COLOR_BGR2RGB))"
   ]
  },
  {
   "cell_type": "code",
   "execution_count": null,
   "metadata": {},
   "outputs": [],
   "source": [
    "text = \"\"\n",
    "for result in ocr_result:\n",
    "    print(np.sum(np.subtract(result[0][2],result[0][1])))\n",
    "    print(result[1])\n",
    "    text += result[1].upper() + \" \"\n",
    "    \n",
    "print(text)"
   ]
  },
  {
   "cell_type": "markdown",
   "metadata": {},
   "source": [
    "# OCR Filtering"
   ]
  },
  {
   "cell_type": "code",
   "execution_count": null,
   "metadata": {},
   "outputs": [],
   "source": [
    "region_threshold = 0.05"
   ]
  },
  {
   "cell_type": "code",
   "execution_count": null,
   "metadata": {},
   "outputs": [],
   "source": [
    "def filter_text(region, ocr_result, region_threshold):\n",
    "    rectangle_size = region.shape[0]*region.shape[1]\n",
    "    \n",
    "    plate = [] \n",
    "    for result in ocr_result:\n",
    "        length = np.sum(np.subtract(result[0][1], result[0][0]))\n",
    "        height = np.sum(np.subtract(result[0][2], result[0][1]))\n",
    "        \n",
    "        if length*height / rectangle_size > region_threshold:\n",
    "            plate.append(result[1])\n",
    "    return plate"
   ]
  },
  {
   "cell_type": "code",
   "execution_count": null,
   "metadata": {},
   "outputs": [],
   "source": [
    "text = filter_text(region, ocr_result, region_threshold)\n",
    "text"
   ]
  },
  {
   "cell_type": "markdown",
   "metadata": {},
   "source": [
    "# Bring it Together"
   ]
  },
  {
   "cell_type": "code",
   "execution_count": null,
   "metadata": {},
   "outputs": [],
   "source": [
    "plt.imshow(image_np_with_detections)"
   ]
  },
  {
   "cell_type": "code",
   "execution_count": null,
   "metadata": {},
   "outputs": [],
   "source": [
    "region_threshold = 0.6"
   ]
  },
  {
   "cell_type": "code",
   "execution_count": null,
   "metadata": {},
   "outputs": [],
   "source": [
    "def ocr_it(image, detections, detection_threshold, region_threshold):\n",
    "    \n",
    "    # Scores, boxes and classes above threhold\n",
    "    scores = list(filter(lambda x: x> detection_threshold, detections['detection_scores']))\n",
    "    boxes = detections['detection_boxes'][:len(scores)]\n",
    "    classes = detections['detection_classes'][:len(scores)]\n",
    "    \n",
    "    # Full image dimensions\n",
    "    width = image.shape[1]\n",
    "    height = image.shape[0]\n",
    "    \n",
    "    # Apply ROI filtering and OCR\n",
    "    for idx, box in enumerate(boxes):\n",
    "        roi = box*[height, width, height, width]\n",
    "        region = image[int(roi[0]):int(roi[2]),int(roi[1]):int(roi[3])]\n",
    "        reader = easyocr.Reader(['en'])\n",
    "        ocr_result = reader.readtext(region)\n",
    "        \n",
    "        text = filter_text(region, ocr_result, region_threshold)\n",
    "        \n",
    "        plt.imshow(cv2.cvtColor(region, cv2.COLOR_BGR2RGB))\n",
    "        plt.show()\n",
    "        print(text)\n",
    "        return text, region"
   ]
  },
  {
   "cell_type": "code",
   "execution_count": null,
   "metadata": {
    "scrolled": true
   },
   "outputs": [],
   "source": [
    "text, region = ocr_it(image_np_with_detections, detections, detection_threshold, region_threshold)"
   ]
  },
  {
   "cell_type": "markdown",
   "metadata": {},
   "source": [
    "# Save Results"
   ]
  },
  {
   "cell_type": "code",
   "execution_count": null,
   "metadata": {},
   "outputs": [],
   "source": [
    "import csv\n",
    "import uuid\n",
    "import datetime"
   ]
  },
  {
   "cell_type": "code",
   "execution_count": null,
   "metadata": {},
   "outputs": [],
   "source": [
    "def save_results(id, text, region, csv_filename, folder_path):\n",
    "    img_name = '{}.jpg'.format(uuid.uuid1())\n",
    "     \n",
    "    timestamp = datetime.datetime.now().strftime(\"%Y-%m-%d %H:%M:%S\")\n",
    "    cv2.imwrite(os.path.join(folder_path, img_name), region)\n",
    "    with open(csv_filename, mode='a', newline='') as f:\n",
    "        csv_writer = csv.writer(f, delimiter=',', quotechar='\"', quoting=csv.QUOTE_MINIMAL)\n",
    "        csv_writer.writerow([id, img_name, text, timestamp])\n",
    "\n",
    "def writeheader(csv_file, folder_path):\n",
    "    # Check if the CSV file already exists\n",
    "    header = [\"ID\", \"IMAGE_NAME\", \"LICENSE_PLATE_NUMBER\", \"DETECTED_AT\"]\n",
    "    csv_exists = False\n",
    "    try:\n",
    "        with open(csv_file, 'r', newline='') as file:\n",
    "            reader = csv.reader(file)\n",
    "            existing_header = next(reader, [])\n",
    "            if existing_header == header:\n",
    "                csv_exists = True\n",
    "    except FileNotFoundError:\n",
    "        pass\n",
    "\n",
    "    # If the CSV file doesn't exist or has a different header, create a new file with the header\n",
    "    if not csv_exists:\n",
    "        with open(csv_file, 'w', newline='') as file:\n",
    "            writer = csv.writer(file)\n",
    "            writer.writerow(header)"
   ]
  },
  {
   "cell_type": "code",
   "execution_count": null,
   "metadata": {},
   "outputs": [],
   "source": [
    "save_results(0, text, region, 'detection_results.csv', 'Detection_Images')"
   ]
  },
  {
   "cell_type": "code",
   "execution_count": null,
   "metadata": {},
   "outputs": [],
   "source": [
    "writeheader('detection_results.csv', 'Detection_Images')"
   ]
  },
  {
   "cell_type": "markdown",
   "metadata": {},
   "source": [
    "## Download the model"
   ]
  },
  {
   "cell_type": "code",
   "execution_count": null,
   "metadata": {},
   "outputs": [],
   "source": [
    "import joblib "
   ]
  },
  {
   "cell_type": "code",
   "execution_count": null,
   "metadata": {},
   "outputs": [],
   "source": [
    "filename = 'detection_model.pkl'"
   ]
  },
  {
   "cell_type": "markdown",
   "metadata": {
    "id": "IsNAaYAo0WVL"
   },
   "source": [
    "# 10. Real Time Detections from your Webcam"
   ]
  },
  {
   "cell_type": "code",
   "execution_count": null,
   "metadata": {
    "scrolled": true
   },
   "outputs": [],
   "source": [
    "!pip uninstall opencv-python-headless -y"
   ]
  },
  {
   "cell_type": "code",
   "execution_count": null,
   "metadata": {},
   "outputs": [],
   "source": [
    "import cv2"
   ]
  },
  {
   "cell_type": "code",
   "execution_count": null,
   "metadata": {
    "id": "o_grs6OGpfDJ"
   },
   "outputs": [],
   "source": [
    "cap = cv2.VideoCapture(0)\n",
    "width = int(cap.get(cv2.CAP_PROP_FRAME_WIDTH))\n",
    "height = int(cap.get(cv2.CAP_PROP_FRAME_HEIGHT))\n",
    "\n",
    "while cap.isOpened(): \n",
    "    ret, frame = cap.read()\n",
    "    image_np = np.array(frame)\n",
    "    \n",
    "    input_tensor = tf.convert_to_tensor(np.expand_dims(image_np, 0), dtype=tf.float32)\n",
    "    detections = detect_fn(input_tensor)\n",
    "    \n",
    "    num_detections = int(detections.pop('num_detections'))\n",
    "    detections = {key: value[0, :num_detections].numpy()\n",
    "                  for key, value in detections.items()}\n",
    "    detections['num_detections'] = num_detections\n",
    "\n",
    "    # detection_classes should be ints.\n",
    "    detections['detection_classes'] = detections['detection_classes'].astype(np.int64)\n",
    "\n",
    "    label_id_offset = 1\n",
    "    image_np_with_detections = image_np.copy()\n",
    "\n",
    "    viz_utils.visualize_boxes_and_labels_on_image_array(\n",
    "                image_np_with_detections,\n",
    "                detections['detection_boxes'],\n",
    "                detections['detection_classes']+label_id_offset,\n",
    "                detections['detection_scores'],\n",
    "                category_index,\n",
    "                use_normalized_coordinates=True,\n",
    "                max_boxes_to_draw=5,\n",
    "                min_score_thresh=.8,\n",
    "                agnostic_mode=False)\n",
    "    \n",
    "    try: \n",
    "        text, region = ocr_it(image_np_with_detections, detections, detection_threshold, region_threshold)\n",
    "        save_results(text, region, 'realtimeresults.csv', 'Detection_Images')\n",
    "    except:\n",
    "        pass\n",
    "\n",
    "    cv2.imshow('object detection',  cv2.resize(image_np_with_detections, (800, 600)))\n",
    "    \n",
    "    if cv2.waitKey(10) & 0xFF == ord('q'):\n",
    "        cap.release()\n",
    "        cv2.destroyAllWindows()\n",
    "        break"
   ]
  },
  {
   "cell_type": "markdown",
   "metadata": {
    "id": "rzlM4jt0pfDJ"
   },
   "source": [
    "# 10. Freezing the Graph"
   ]
  },
  {
   "cell_type": "code",
   "execution_count": 19,
   "metadata": {
    "id": "n4olHB2npfDJ"
   },
   "outputs": [],
   "source": [
    "FREEZE_SCRIPT = os.path.join(paths['APIMODEL_PATH'], 'research', 'object_detection', 'exporter_main_v2.py ')"
   ]
  },
  {
   "cell_type": "code",
   "execution_count": 20,
   "metadata": {},
   "outputs": [],
   "source": [
    "import os"
   ]
  },
  {
   "cell_type": "code",
   "execution_count": 21,
   "metadata": {
    "id": "0AjO93QDpfDJ"
   },
   "outputs": [],
   "source": [
    "command = \"python {} --input_type=image_tensor --pipeline_config_path={} --trained_checkpoint_dir={} --output_directory={}\".format(FREEZE_SCRIPT ,files['PIPELINE_CONFIG'], paths['CHECKPOINT_PATH'], paths['OUTPUT_PATH'])"
   ]
  },
  {
   "cell_type": "code",
   "execution_count": 22,
   "metadata": {
    "colab": {
     "base_uri": "https://localhost:8080/"
    },
    "id": "F6Lsp3tCpfDJ",
    "outputId": "c3828529-bf06-4df5-d7f3-145890ec3edd"
   },
   "outputs": [
    {
     "name": "stdout",
     "output_type": "stream",
     "text": [
      "python Tensorflow\\models\\research\\object_detection\\exporter_main_v2.py  --input_type=image_tensor --pipeline_config_path=Tensorflow\\workspace\\models\\my_ssd_mobnet\\pipeline.config --trained_checkpoint_dir=Tensorflow\\workspace\\models\\my_ssd_mobnet --output_directory=Tensorflow\\workspace\\models\\my_ssd_mobnet\\export\n"
     ]
    }
   ],
   "source": [
    "print(command)"
   ]
  },
  {
   "cell_type": "code",
   "execution_count": 23,
   "metadata": {
    "colab": {
     "base_uri": "https://localhost:8080/"
    },
    "id": "1Sw1ULgHpfDJ",
    "outputId": "6fd441e1-9fc9-4889-d072-3395c21e40b6"
   },
   "outputs": [
    {
     "name": "stderr",
     "output_type": "stream",
     "text": [
      "2023-10-20 21:57:23.571016: W tensorflow/stream_executor/platform/default/dso_loader.cc:64] Could not load dynamic library 'cudart64_110.dll'; dlerror: cudart64_110.dll not found\n",
      "2023-10-20 21:57:40.137101: W external/org_tensorflow/tensorflow/stream_executor/platform/default/dso_loader.cc:64] Could not load dynamic library 'cudart64_110.dll'; dlerror: cudart64_110.dll not found\n",
      "2023-10-20 21:57:40.180681: W external/org_tensorflow/tensorflow/stream_executor/platform/default/dso_loader.cc:64] Could not load dynamic library 'cudart64_110.dll'; dlerror: cudart64_110.dll not found\n",
      "2023-10-20 21:57:58.410415: W tensorflow/stream_executor/platform/default/dso_loader.cc:64] Could not load dynamic library 'nvcuda.dll'; dlerror: nvcuda.dll not found\n",
      "2023-10-20 21:57:58.411199: W tensorflow/stream_executor/cuda/cuda_driver.cc:269] failed call to cuInit: UNKNOWN ERROR (303)\n",
      "WARNING:tensorflow:From C:\\Users\\user\\AppData\\Roaming\\Python\\Python38\\site-packages\\tensorflow\\python\\autograph\\impl\\api.py:458: calling map_fn_v2 (from tensorflow.python.ops.map_fn) with back_prop=False is deprecated and will be removed in a future version.\n",
      "Instructions for updating:\n",
      "back_prop=False is deprecated. Consider using tf.stop_gradient instead.\n",
      "Instead of:\n",
      "results = tf.map_fn(fn, elems, back_prop=False)\n",
      "Use:\n",
      "results = tf.nest.map_structure(tf.stop_gradient, tf.map_fn(fn, elems))\n",
      "W1020 21:57:59.197938 10428 deprecation.py:623] From C:\\Users\\user\\AppData\\Roaming\\Python\\Python38\\site-packages\\tensorflow\\python\\autograph\\impl\\api.py:458: calling map_fn_v2 (from tensorflow.python.ops.map_fn) with back_prop=False is deprecated and will be removed in a future version.\n",
      "Instructions for updating:\n",
      "back_prop=False is deprecated. Consider using tf.stop_gradient instead.\n",
      "Instead of:\n",
      "results = tf.map_fn(fn, elems, back_prop=False)\n",
      "Use:\n",
      "results = tf.nest.map_structure(tf.stop_gradient, tf.map_fn(fn, elems))\n",
      "I1020 21:58:18.441231 10428 api.py:459] feature_map_spatial_dims: [(40, 40), (20, 20), (10, 10), (5, 5), (3, 3)]\n",
      "I1020 21:58:48.754042 10428 api.py:459] feature_map_spatial_dims: [(40, 40), (20, 20), (10, 10), (5, 5), (3, 3)]\n",
      "I1020 21:59:00.711686 10428 api.py:459] feature_map_spatial_dims: [(40, 40), (20, 20), (10, 10), (5, 5), (3, 3)]\n",
      "WARNING:tensorflow:Skipping full serialization of Keras layer <object_detection.meta_architectures.ssd_meta_arch.SSDMetaArch object at 0x000001BFFD459670>, because it is not built.\n",
      "W1020 21:59:11.179691 10428 save_impl.py:71] Skipping full serialization of Keras layer <object_detection.meta_architectures.ssd_meta_arch.SSDMetaArch object at 0x000001BFFD459670>, because it is not built.\n",
      "WARNING:tensorflow:Skipping full serialization of Keras layer <keras.layers.convolutional.separable_conv2d.SeparableConv2D object at 0x000001BFFD4F55B0>, because it is not built.\n",
      "W1020 21:59:12.459685 10428 save_impl.py:71] Skipping full serialization of Keras layer <keras.layers.convolutional.separable_conv2d.SeparableConv2D object at 0x000001BFFD4F55B0>, because it is not built.\n",
      "WARNING:tensorflow:Skipping full serialization of Keras layer <object_detection.core.freezable_batch_norm.FreezableBatchNorm object at 0x000001BFFF132400>, because it is not built.\n",
      "W1020 21:59:12.460688 10428 save_impl.py:71] Skipping full serialization of Keras layer <object_detection.core.freezable_batch_norm.FreezableBatchNorm object at 0x000001BFFF132400>, because it is not built.\n",
      "WARNING:tensorflow:Skipping full serialization of Keras layer <keras.layers.core.lambda_layer.Lambda object at 0x000001BFFD9258B0>, because it is not built.\n",
      "W1020 21:59:12.460688 10428 save_impl.py:71] Skipping full serialization of Keras layer <keras.layers.core.lambda_layer.Lambda object at 0x000001BFFD9258B0>, because it is not built.\n",
      "WARNING:tensorflow:Skipping full serialization of Keras layer <keras.layers.convolutional.separable_conv2d.SeparableConv2D object at 0x000001BFFEB418E0>, because it is not built.\n",
      "W1020 21:59:12.461687 10428 save_impl.py:71] Skipping full serialization of Keras layer <keras.layers.convolutional.separable_conv2d.SeparableConv2D object at 0x000001BFFEB418E0>, because it is not built.\n",
      "WARNING:tensorflow:Skipping full serialization of Keras layer <object_detection.core.freezable_batch_norm.FreezableBatchNorm object at 0x000001BFFEB41DC0>, because it is not built.\n",
      "W1020 21:59:12.461687 10428 save_impl.py:71] Skipping full serialization of Keras layer <object_detection.core.freezable_batch_norm.FreezableBatchNorm object at 0x000001BFFEB41DC0>, because it is not built.\n",
      "WARNING:tensorflow:Skipping full serialization of Keras layer <keras.layers.core.lambda_layer.Lambda object at 0x000001BFFD95A760>, because it is not built.\n",
      "W1020 21:59:12.461687 10428 save_impl.py:71] Skipping full serialization of Keras layer <keras.layers.core.lambda_layer.Lambda object at 0x000001BFFD95A760>, because it is not built.\n",
      "WARNING:tensorflow:Skipping full serialization of Keras layer <keras.layers.convolutional.separable_conv2d.SeparableConv2D object at 0x000001BFFD910490>, because it is not built.\n",
      "W1020 21:59:12.462687 10428 save_impl.py:71] Skipping full serialization of Keras layer <keras.layers.convolutional.separable_conv2d.SeparableConv2D object at 0x000001BFFD910490>, because it is not built.\n",
      "WARNING:tensorflow:Skipping full serialization of Keras layer <object_detection.core.freezable_batch_norm.FreezableBatchNorm object at 0x000001BFFEBE0130>, because it is not built.\n",
      "W1020 21:59:12.462687 10428 save_impl.py:71] Skipping full serialization of Keras layer <object_detection.core.freezable_batch_norm.FreezableBatchNorm object at 0x000001BFFEBE0130>, because it is not built.\n",
      "WARNING:tensorflow:Skipping full serialization of Keras layer <keras.layers.core.lambda_layer.Lambda object at 0x000001BFFEBE0100>, because it is not built.\n",
      "W1020 21:59:12.462687 10428 save_impl.py:71] Skipping full serialization of Keras layer <keras.layers.core.lambda_layer.Lambda object at 0x000001BFFEBE0100>, because it is not built.\n",
      "WARNING:tensorflow:Skipping full serialization of Keras layer <keras.layers.convolutional.separable_conv2d.SeparableConv2D object at 0x000001BFFEBE03A0>, because it is not built.\n",
      "W1020 21:59:12.463690 10428 save_impl.py:71] Skipping full serialization of Keras layer <keras.layers.convolutional.separable_conv2d.SeparableConv2D object at 0x000001BFFEBE03A0>, because it is not built.\n",
      "WARNING:tensorflow:Skipping full serialization of Keras layer <object_detection.core.freezable_batch_norm.FreezableBatchNorm object at 0x000001BFFEBE0910>, because it is not built.\n",
      "W1020 21:59:12.463690 10428 save_impl.py:71] Skipping full serialization of Keras layer <object_detection.core.freezable_batch_norm.FreezableBatchNorm object at 0x000001BFFEBE0910>, because it is not built.\n",
      "WARNING:tensorflow:Skipping full serialization of Keras layer <keras.layers.core.lambda_layer.Lambda object at 0x000001BFFEBE0D30>, because it is not built.\n",
      "W1020 21:59:12.463690 10428 save_impl.py:71] Skipping full serialization of Keras layer <keras.layers.core.lambda_layer.Lambda object at 0x000001BFFEBE0D30>, because it is not built.\n",
      "WARNING:tensorflow:Skipping full serialization of Keras layer <object_detection.core.freezable_batch_norm.FreezableBatchNorm object at 0x000001BFFD4F58E0>, because it is not built.\n",
      "W1020 21:59:12.464688 10428 save_impl.py:71] Skipping full serialization of Keras layer <object_detection.core.freezable_batch_norm.FreezableBatchNorm object at 0x000001BFFD4F58E0>, because it is not built.\n",
      "WARNING:tensorflow:Skipping full serialization of Keras layer <keras.layers.core.lambda_layer.Lambda object at 0x000001BFFD993AF0>, because it is not built.\n",
      "W1020 21:59:12.464688 10428 save_impl.py:71] Skipping full serialization of Keras layer <keras.layers.core.lambda_layer.Lambda object at 0x000001BFFD993AF0>, because it is not built.\n",
      "WARNING:tensorflow:Skipping full serialization of Keras layer <object_detection.core.freezable_batch_norm.FreezableBatchNorm object at 0x000001BFFEB696A0>, because it is not built.\n",
      "W1020 21:59:12.464688 10428 save_impl.py:71] Skipping full serialization of Keras layer <object_detection.core.freezable_batch_norm.FreezableBatchNorm object at 0x000001BFFEB696A0>, because it is not built.\n",
      "WARNING:tensorflow:Skipping full serialization of Keras layer <keras.layers.core.lambda_layer.Lambda object at 0x000001BFFEB694C0>, because it is not built.\n",
      "W1020 21:59:12.464688 10428 save_impl.py:71] Skipping full serialization of Keras layer <keras.layers.core.lambda_layer.Lambda object at 0x000001BFFEB694C0>, because it is not built.\n",
      "WARNING:tensorflow:Skipping full serialization of Keras layer <object_detection.core.freezable_batch_norm.FreezableBatchNorm object at 0x000001BFFEC98730>, because it is not built.\n",
      "W1020 21:59:12.465690 10428 save_impl.py:71] Skipping full serialization of Keras layer <object_detection.core.freezable_batch_norm.FreezableBatchNorm object at 0x000001BFFEC98730>, because it is not built.\n",
      "WARNING:tensorflow:Skipping full serialization of Keras layer <keras.layers.core.lambda_layer.Lambda object at 0x000001BFFEC98F40>, because it is not built.\n",
      "W1020 21:59:12.465690 10428 save_impl.py:71] Skipping full serialization of Keras layer <keras.layers.core.lambda_layer.Lambda object at 0x000001BFFEC98F40>, because it is not built.\n",
      "WARNING:tensorflow:Skipping full serialization of Keras layer <object_detection.core.freezable_batch_norm.FreezableBatchNorm object at 0x000001BFFEC98790>, because it is not built.\n",
      "W1020 21:59:12.465690 10428 save_impl.py:71] Skipping full serialization of Keras layer <object_detection.core.freezable_batch_norm.FreezableBatchNorm object at 0x000001BFFEC98790>, because it is not built.\n",
      "WARNING:tensorflow:Skipping full serialization of Keras layer <keras.layers.core.lambda_layer.Lambda object at 0x000001BFFD999580>, because it is not built.\n",
      "W1020 21:59:12.466688 10428 save_impl.py:71] Skipping full serialization of Keras layer <keras.layers.core.lambda_layer.Lambda object at 0x000001BFFD999580>, because it is not built.\n",
      "WARNING:tensorflow:Skipping full serialization of Keras layer <object_detection.core.freezable_batch_norm.FreezableBatchNorm object at 0x000001BFFD4F5910>, because it is not built.\n",
      "W1020 21:59:12.466688 10428 save_impl.py:71] Skipping full serialization of Keras layer <object_detection.core.freezable_batch_norm.FreezableBatchNorm object at 0x000001BFFD4F5910>, because it is not built.\n",
      "WARNING:tensorflow:Skipping full serialization of Keras layer <keras.layers.core.lambda_layer.Lambda object at 0x000001BFFD93B340>, because it is not built.\n",
      "W1020 21:59:12.467694 10428 save_impl.py:71] Skipping full serialization of Keras layer <keras.layers.core.lambda_layer.Lambda object at 0x000001BFFD93B340>, because it is not built.\n",
      "WARNING:tensorflow:Skipping full serialization of Keras layer <object_detection.core.freezable_batch_norm.FreezableBatchNorm object at 0x000001BFFD6BA640>, because it is not built.\n",
      "W1020 21:59:12.467694 10428 save_impl.py:71] Skipping full serialization of Keras layer <object_detection.core.freezable_batch_norm.FreezableBatchNorm object at 0x000001BFFD6BA640>, because it is not built.\n",
      "WARNING:tensorflow:Skipping full serialization of Keras layer <keras.layers.core.lambda_layer.Lambda object at 0x000001BFFD6BAA90>, because it is not built.\n",
      "W1020 21:59:12.468689 10428 save_impl.py:71] Skipping full serialization of Keras layer <keras.layers.core.lambda_layer.Lambda object at 0x000001BFFD6BAA90>, because it is not built.\n",
      "WARNING:tensorflow:Skipping full serialization of Keras layer <object_detection.core.freezable_batch_norm.FreezableBatchNorm object at 0x000001BFFD9C9D30>, because it is not built.\n",
      "W1020 21:59:12.468689 10428 save_impl.py:71] Skipping full serialization of Keras layer <object_detection.core.freezable_batch_norm.FreezableBatchNorm object at 0x000001BFFD9C9D30>, because it is not built.\n",
      "WARNING:tensorflow:Skipping full serialization of Keras layer <keras.layers.core.lambda_layer.Lambda object at 0x000001BFFD9C9D60>, because it is not built.\n",
      "W1020 21:59:12.468689 10428 save_impl.py:71] Skipping full serialization of Keras layer <keras.layers.core.lambda_layer.Lambda object at 0x000001BFFD9C9D60>, because it is not built.\n",
      "WARNING:tensorflow:Skipping full serialization of Keras layer <object_detection.core.freezable_batch_norm.FreezableBatchNorm object at 0x000001BFFEB3AF10>, because it is not built.\n",
      "W1020 21:59:12.468689 10428 save_impl.py:71] Skipping full serialization of Keras layer <object_detection.core.freezable_batch_norm.FreezableBatchNorm object at 0x000001BFFEB3AF10>, because it is not built.\n",
      "WARNING:tensorflow:Skipping full serialization of Keras layer <keras.layers.core.lambda_layer.Lambda object at 0x000001BFFEB3A340>, because it is not built.\n",
      "W1020 21:59:12.469697 10428 save_impl.py:71] Skipping full serialization of Keras layer <keras.layers.core.lambda_layer.Lambda object at 0x000001BFFEB3A340>, because it is not built.\n",
      "WARNING:tensorflow:Skipping full serialization of Keras layer <object_detection.core.freezable_batch_norm.FreezableBatchNorm object at 0x000001BFFD4F5940>, because it is not built.\n",
      "W1020 21:59:12.469697 10428 save_impl.py:71] Skipping full serialization of Keras layer <object_detection.core.freezable_batch_norm.FreezableBatchNorm object at 0x000001BFFD4F5940>, because it is not built.\n",
      "WARNING:tensorflow:Skipping full serialization of Keras layer <keras.layers.core.lambda_layer.Lambda object at 0x000001BFFD8CE6A0>, because it is not built.\n",
      "W1020 21:59:12.469697 10428 save_impl.py:71] Skipping full serialization of Keras layer <keras.layers.core.lambda_layer.Lambda object at 0x000001BFFD8CE6A0>, because it is not built.\n",
      "WARNING:tensorflow:Skipping full serialization of Keras layer <object_detection.core.freezable_batch_norm.FreezableBatchNorm object at 0x000001BFFD981E20>, because it is not built.\n",
      "W1020 21:59:12.469697 10428 save_impl.py:71] Skipping full serialization of Keras layer <object_detection.core.freezable_batch_norm.FreezableBatchNorm object at 0x000001BFFD981E20>, because it is not built.\n",
      "WARNING:tensorflow:Skipping full serialization of Keras layer <keras.layers.core.lambda_layer.Lambda object at 0x000001BFFD981C10>, because it is not built.\n",
      "W1020 21:59:12.470690 10428 save_impl.py:71] Skipping full serialization of Keras layer <keras.layers.core.lambda_layer.Lambda object at 0x000001BFFD981C10>, because it is not built.\n",
      "WARNING:tensorflow:Skipping full serialization of Keras layer <object_detection.core.freezable_batch_norm.FreezableBatchNorm object at 0x000001BFFD981670>, because it is not built.\n",
      "W1020 21:59:12.470690 10428 save_impl.py:71] Skipping full serialization of Keras layer <object_detection.core.freezable_batch_norm.FreezableBatchNorm object at 0x000001BFFD981670>, because it is not built.\n",
      "WARNING:tensorflow:Skipping full serialization of Keras layer <keras.layers.core.lambda_layer.Lambda object at 0x000001BFFD9814C0>, because it is not built.\n",
      "W1020 21:59:12.470690 10428 save_impl.py:71] Skipping full serialization of Keras layer <keras.layers.core.lambda_layer.Lambda object at 0x000001BFFD9814C0>, because it is not built.\n",
      "WARNING:tensorflow:Skipping full serialization of Keras layer <object_detection.core.freezable_batch_norm.FreezableBatchNorm object at 0x000001BFFEBFF550>, because it is not built.\n",
      "W1020 21:59:12.471690 10428 save_impl.py:71] Skipping full serialization of Keras layer <object_detection.core.freezable_batch_norm.FreezableBatchNorm object at 0x000001BFFEBFF550>, because it is not built.\n",
      "WARNING:tensorflow:Skipping full serialization of Keras layer <keras.layers.core.lambda_layer.Lambda object at 0x000001BFFEBFF5E0>, because it is not built.\n",
      "W1020 21:59:12.471690 10428 save_impl.py:71] Skipping full serialization of Keras layer <keras.layers.core.lambda_layer.Lambda object at 0x000001BFFEBFF5E0>, because it is not built.\n",
      "WARNING:tensorflow:Skipping full serialization of Keras layer <object_detection.core.freezable_batch_norm.FreezableBatchNorm object at 0x000001BFFD965970>, because it is not built.\n",
      "W1020 21:59:12.471690 10428 save_impl.py:71] Skipping full serialization of Keras layer <object_detection.core.freezable_batch_norm.FreezableBatchNorm object at 0x000001BFFD965970>, because it is not built.\n",
      "WARNING:tensorflow:Skipping full serialization of Keras layer <keras.layers.core.lambda_layer.Lambda object at 0x000001BFFD965400>, because it is not built.\n",
      "W1020 21:59:12.471690 10428 save_impl.py:71] Skipping full serialization of Keras layer <keras.layers.core.lambda_layer.Lambda object at 0x000001BFFD965400>, because it is not built.\n",
      "WARNING:tensorflow:Skipping full serialization of Keras layer <object_detection.core.freezable_batch_norm.FreezableBatchNorm object at 0x000001BFFD84CE80>, because it is not built.\n",
      "W1020 21:59:12.472693 10428 save_impl.py:71] Skipping full serialization of Keras layer <object_detection.core.freezable_batch_norm.FreezableBatchNorm object at 0x000001BFFD84CE80>, because it is not built.\n",
      "WARNING:tensorflow:Skipping full serialization of Keras layer <keras.layers.core.lambda_layer.Lambda object at 0x000001BFFD84CD60>, because it is not built.\n",
      "W1020 21:59:12.472693 10428 save_impl.py:71] Skipping full serialization of Keras layer <keras.layers.core.lambda_layer.Lambda object at 0x000001BFFD84CD60>, because it is not built.\n",
      "WARNING:tensorflow:Skipping full serialization of Keras layer <object_detection.core.freezable_batch_norm.FreezableBatchNorm object at 0x000001BFFEB73280>, because it is not built.\n",
      "W1020 21:59:12.472693 10428 save_impl.py:71] Skipping full serialization of Keras layer <object_detection.core.freezable_batch_norm.FreezableBatchNorm object at 0x000001BFFEB73280>, because it is not built.\n",
      "WARNING:tensorflow:Skipping full serialization of Keras layer <keras.layers.core.lambda_layer.Lambda object at 0x000001BFFEB73AC0>, because it is not built.\n",
      "W1020 21:59:12.473689 10428 save_impl.py:71] Skipping full serialization of Keras layer <keras.layers.core.lambda_layer.Lambda object at 0x000001BFFEB73AC0>, because it is not built.\n",
      "WARNING:tensorflow:Skipping full serialization of Keras layer <object_detection.core.freezable_batch_norm.FreezableBatchNorm object at 0x000001BFFEB73490>, because it is not built.\n",
      "W1020 21:59:12.473689 10428 save_impl.py:71] Skipping full serialization of Keras layer <object_detection.core.freezable_batch_norm.FreezableBatchNorm object at 0x000001BFFEB73490>, because it is not built.\n",
      "WARNING:tensorflow:Skipping full serialization of Keras layer <keras.layers.core.lambda_layer.Lambda object at 0x000001BFFEB73FD0>, because it is not built.\n",
      "W1020 21:59:12.474691 10428 save_impl.py:71] Skipping full serialization of Keras layer <keras.layers.core.lambda_layer.Lambda object at 0x000001BFFEB73FD0>, because it is not built.\n",
      "W1020 22:00:43.860612 10428 save.py:233] Found untraced functions such as WeightSharedConvolutionalBoxPredictor_layer_call_fn, WeightSharedConvolutionalBoxPredictor_layer_call_and_return_conditional_losses, WeightSharedConvolutionalBoxHead_layer_call_fn, WeightSharedConvolutionalBoxHead_layer_call_and_return_conditional_losses, WeightSharedConvolutionalClassHead_layer_call_fn while saving (showing 5 of 173). These functions will not be directly callable after loading.\n",
      "INFO:tensorflow:Assets written to: Tensorflow\\workspace\\models\\my_ssd_mobnet\\export\\saved_model\\assets\n",
      "I1020 22:01:19.670552 10428 builder_impl.py:779] Assets written to: Tensorflow\\workspace\\models\\my_ssd_mobnet\\export\\saved_model\\assets\n",
      "INFO:tensorflow:Writing pipeline config file to Tensorflow\\workspace\\models\\my_ssd_mobnet\\export\\pipeline.config\n",
      "I1020 22:01:22.763559 10428 config_util.py:253] Writing pipeline config file to Tensorflow\\workspace\\models\\my_ssd_mobnet\\export\\pipeline.config\n"
     ]
    }
   ],
   "source": [
    "!{command}"
   ]
  },
  {
   "cell_type": "markdown",
   "metadata": {
    "id": "wTPmdqaXpfDK"
   },
   "source": [
    "# 11. Conversion to TFJS"
   ]
  },
  {
   "cell_type": "code",
   "execution_count": null,
   "metadata": {
    "colab": {
     "base_uri": "https://localhost:8080/"
    },
    "id": "gZ6UzY_fpfDK",
    "outputId": "0c84722e-1c2b-4002-d857-80827ade828a"
   },
   "outputs": [],
   "source": [
    "!pip install tensorflowjs"
   ]
  },
  {
   "cell_type": "code",
   "execution_count": null,
   "metadata": {},
   "outputs": [],
   "source": [
    "!pip install jaxlib==0.4.18 --upgrade"
   ]
  },
  {
   "cell_type": "code",
   "execution_count": null,
   "metadata": {
    "id": "0oxbVynHpfDK"
   },
   "outputs": [],
   "source": [
    "command = \"tensorflowjs_converter --input_format=tf_saved_model --output_node_names='detection_boxes,detection_classes,detection_features,detection_multiclass_scores,detection_scores,num_detections,raw_detection_boxes,raw_detection_scores' --output_format=tfjs_graph_model --signature_name=serving_default {} {}\".format(os.path.join(paths['OUTPUT_PATH'], 'saved_model'), paths['TFJS_PATH'])"
   ]
  },
  {
   "cell_type": "code",
   "execution_count": null,
   "metadata": {},
   "outputs": [],
   "source": [
    "!pip uninstall tensorflowjs -y\n",
    "!pip install tensorflowjs"
   ]
  },
  {
   "cell_type": "code",
   "execution_count": null,
   "metadata": {
    "colab": {
     "base_uri": "https://localhost:8080/"
    },
    "id": "DB2AGNmJpfDK",
    "outputId": "fbc9f747-f511-47e8-df8f-5ea65cef0374"
   },
   "outputs": [],
   "source": [
    "print(command)"
   ]
  },
  {
   "cell_type": "code",
   "execution_count": null,
   "metadata": {
    "colab": {
     "base_uri": "https://localhost:8080/"
    },
    "id": "K7rfT4-hpfDK",
    "outputId": "532707fd-6feb-4bc6-84a3-325b5d16303c"
   },
   "outputs": [],
   "source": [
    "!{command}"
   ]
  },
  {
   "cell_type": "code",
   "execution_count": null,
   "metadata": {
    "id": "o8_hm-itpfDK"
   },
   "outputs": [],
   "source": [
    "# Test Code: https://github.com/nicknochnack/RealTimeSignLanguageDetectionwithTFJS"
   ]
  },
  {
   "cell_type": "markdown",
   "metadata": {
    "id": "VtUw73FHpfDK"
   },
   "source": [
    "# 12. Conversion to TFLite"
   ]
  },
  {
   "cell_type": "code",
   "execution_count": 7,
   "metadata": {
    "id": "XviMtewLpfDK"
   },
   "outputs": [],
   "source": [
    "TFLITE_SCRIPT = os.path.join(paths['APIMODEL_PATH'], 'research', 'object_detection', 'export_tflite_graph_tf2.py ')"
   ]
  },
  {
   "cell_type": "code",
   "execution_count": 8,
   "metadata": {
    "id": "us86cjC4pfDL"
   },
   "outputs": [],
   "source": [
    "command = \"python {} --pipeline_config_path={} --trained_checkpoint_dir={} --output_directory={}\".format(TFLITE_SCRIPT ,files['PIPELINE_CONFIG'], paths['CHECKPOINT_PATH'], paths['TFLITE_PATH'])"
   ]
  },
  {
   "cell_type": "code",
   "execution_count": 9,
   "metadata": {
    "colab": {
     "base_uri": "https://localhost:8080/"
    },
    "id": "n1r5YO3rpfDL",
    "outputId": "5fcdf7a4-eee2-4365-f1ca-1751968379ea"
   },
   "outputs": [
    {
     "name": "stdout",
     "output_type": "stream",
     "text": [
      "python Tensorflow\\models\\research\\object_detection\\export_tflite_graph_tf2.py  --pipeline_config_path=Tensorflow\\workspace\\models\\my_ssd_mobnet\\pipeline.config --trained_checkpoint_dir=Tensorflow\\workspace\\models\\my_ssd_mobnet --output_directory=Tensorflow\\workspace\\models\\my_ssd_mobnet\\tfliteexport\n"
     ]
    }
   ],
   "source": [
    "print(command)"
   ]
  },
  {
   "cell_type": "code",
   "execution_count": 10,
   "metadata": {
    "colab": {
     "base_uri": "https://localhost:8080/"
    },
    "id": "I-xWpHN8pfDL",
    "outputId": "7f6bacd8-d077-43b5-c131-5b081fba24a4"
   },
   "outputs": [
    {
     "name": "stderr",
     "output_type": "stream",
     "text": [
      "2023-10-20 22:36:23.890630: W tensorflow/stream_executor/platform/default/dso_loader.cc:64] Could not load dynamic library 'cudart64_110.dll'; dlerror: cudart64_110.dll not found\n",
      "2023-10-20 22:36:23.890975: I tensorflow/stream_executor/cuda/cudart_stub.cc:29] Ignore above cudart dlerror if you do not have a GPU set up on your machine.\n",
      "2023-10-20 22:36:37.413058: W external/org_tensorflow/tensorflow/stream_executor/platform/default/dso_loader.cc:64] Could not load dynamic library 'cudart64_110.dll'; dlerror: cudart64_110.dll not found\n",
      "2023-10-20 22:36:37.451592: W external/org_tensorflow/tensorflow/stream_executor/platform/default/dso_loader.cc:64] Could not load dynamic library 'cudart64_110.dll'; dlerror: cudart64_110.dll not found\n",
      "2023-10-20 22:36:48.994669: W tensorflow/stream_executor/platform/default/dso_loader.cc:64] Could not load dynamic library 'nvcuda.dll'; dlerror: nvcuda.dll not found\n",
      "2023-10-20 22:36:48.995036: W tensorflow/stream_executor/cuda/cuda_driver.cc:269] failed call to cuInit: UNKNOWN ERROR (303)\n",
      "2023-10-20 22:36:49.004189: I tensorflow/stream_executor/cuda/cuda_diagnostics.cc:169] retrieving CUDA diagnostic information for host: HpLaptop\n",
      "2023-10-20 22:36:49.004484: I tensorflow/stream_executor/cuda/cuda_diagnostics.cc:176] hostname: HpLaptop\n",
      "2023-10-20 22:36:49.038755: I tensorflow/core/platform/cpu_feature_guard.cc:193] This TensorFlow binary is optimized with oneAPI Deep Neural Network Library (oneDNN) to use the following CPU instructions in performance-critical operations:  AVX AVX2\n",
      "To enable them in other operations, rebuild TensorFlow with the appropriate compiler flags.\n",
      "I1020 22:36:57.329677  6048 api.py:459] feature_map_spatial_dims: [(40, 40), (20, 20), (10, 10), (5, 5), (3, 3)]\n",
      "2023-10-20 22:37:07.164450: I tensorflow/compiler/mlir/mlir_graph_optimization_pass.cc:354] MLIR V1 optimization pass is not enabled\n",
      "I1020 22:37:09.500519  6048 api.py:459] feature_map_spatial_dims: [(40, 40), (20, 20), (10, 10), (5, 5), (3, 3)]\n",
      "I1020 22:37:15.435154  6048 api.py:459] feature_map_spatial_dims: [(40, 40), (20, 20), (10, 10), (5, 5), (3, 3)]\n",
      "WARNING:tensorflow:Skipping full serialization of Keras layer <object_detection.meta_architectures.ssd_meta_arch.SSDMetaArch object at 0x000001D4EC592A60>, because it is not built.\n",
      "W1020 22:37:19.024277  6048 save_impl.py:71] Skipping full serialization of Keras layer <object_detection.meta_architectures.ssd_meta_arch.SSDMetaArch object at 0x000001D4EC592A60>, because it is not built.\n",
      "WARNING:tensorflow:Skipping full serialization of Keras layer <keras.layers.convolutional.separable_conv2d.SeparableConv2D object at 0x000001D4EC60EAF0>, because it is not built.\n",
      "W1020 22:37:19.724351  6048 save_impl.py:71] Skipping full serialization of Keras layer <keras.layers.convolutional.separable_conv2d.SeparableConv2D object at 0x000001D4EC60EAF0>, because it is not built.\n",
      "WARNING:tensorflow:Skipping full serialization of Keras layer <object_detection.core.freezable_batch_norm.FreezableBatchNorm object at 0x000001D4EDFE4AC0>, because it is not built.\n",
      "W1020 22:37:19.724351  6048 save_impl.py:71] Skipping full serialization of Keras layer <object_detection.core.freezable_batch_norm.FreezableBatchNorm object at 0x000001D4EDFE4AC0>, because it is not built.\n",
      "WARNING:tensorflow:Skipping full serialization of Keras layer <keras.layers.core.lambda_layer.Lambda object at 0x000001D4EDB31D60>, because it is not built.\n",
      "W1020 22:37:19.724351  6048 save_impl.py:71] Skipping full serialization of Keras layer <keras.layers.core.lambda_layer.Lambda object at 0x000001D4EDB31D60>, because it is not built.\n",
      "WARNING:tensorflow:Skipping full serialization of Keras layer <keras.layers.convolutional.separable_conv2d.SeparableConv2D object at 0x000001D4ECA162E0>, because it is not built.\n",
      "W1020 22:37:19.725355  6048 save_impl.py:71] Skipping full serialization of Keras layer <keras.layers.convolutional.separable_conv2d.SeparableConv2D object at 0x000001D4ECA162E0>, because it is not built.\n",
      "WARNING:tensorflow:Skipping full serialization of Keras layer <object_detection.core.freezable_batch_norm.FreezableBatchNorm object at 0x000001D4EDCAA8B0>, because it is not built.\n",
      "W1020 22:37:19.725355  6048 save_impl.py:71] Skipping full serialization of Keras layer <object_detection.core.freezable_batch_norm.FreezableBatchNorm object at 0x000001D4EDCAA8B0>, because it is not built.\n",
      "WARNING:tensorflow:Skipping full serialization of Keras layer <keras.layers.core.lambda_layer.Lambda object at 0x000001D4EDCAA3A0>, because it is not built.\n",
      "W1020 22:37:19.725355  6048 save_impl.py:71] Skipping full serialization of Keras layer <keras.layers.core.lambda_layer.Lambda object at 0x000001D4EDCAA3A0>, because it is not built.\n",
      "WARNING:tensorflow:Skipping full serialization of Keras layer <keras.layers.convolutional.separable_conv2d.SeparableConv2D object at 0x000001D4EDCAAA60>, because it is not built.\n",
      "W1020 22:37:19.725355  6048 save_impl.py:71] Skipping full serialization of Keras layer <keras.layers.convolutional.separable_conv2d.SeparableConv2D object at 0x000001D4EDCAAA60>, because it is not built.\n",
      "WARNING:tensorflow:Skipping full serialization of Keras layer <object_detection.core.freezable_batch_norm.FreezableBatchNorm object at 0x000001D4EDCAA250>, because it is not built.\n",
      "W1020 22:37:19.726353  6048 save_impl.py:71] Skipping full serialization of Keras layer <object_detection.core.freezable_batch_norm.FreezableBatchNorm object at 0x000001D4EDCAA250>, because it is not built.\n",
      "WARNING:tensorflow:Skipping full serialization of Keras layer <keras.layers.core.lambda_layer.Lambda object at 0x000001D4ECA40610>, because it is not built.\n",
      "W1020 22:37:19.726353  6048 save_impl.py:71] Skipping full serialization of Keras layer <keras.layers.core.lambda_layer.Lambda object at 0x000001D4ECA40610>, because it is not built.\n",
      "WARNING:tensorflow:Skipping full serialization of Keras layer <keras.layers.convolutional.separable_conv2d.SeparableConv2D object at 0x000001D4ECA406D0>, because it is not built.\n",
      "W1020 22:37:19.726353  6048 save_impl.py:71] Skipping full serialization of Keras layer <keras.layers.convolutional.separable_conv2d.SeparableConv2D object at 0x000001D4ECA406D0>, because it is not built.\n",
      "WARNING:tensorflow:Skipping full serialization of Keras layer <object_detection.core.freezable_batch_norm.FreezableBatchNorm object at 0x000001D4EC87B8B0>, because it is not built.\n",
      "W1020 22:37:19.726353  6048 save_impl.py:71] Skipping full serialization of Keras layer <object_detection.core.freezable_batch_norm.FreezableBatchNorm object at 0x000001D4EC87B8B0>, because it is not built.\n",
      "WARNING:tensorflow:Skipping full serialization of Keras layer <keras.layers.core.lambda_layer.Lambda object at 0x000001D4EC87B310>, because it is not built.\n",
      "W1020 22:37:19.727353  6048 save_impl.py:71] Skipping full serialization of Keras layer <keras.layers.core.lambda_layer.Lambda object at 0x000001D4EC87B310>, because it is not built.\n",
      "WARNING:tensorflow:Skipping full serialization of Keras layer <object_detection.core.freezable_batch_norm.FreezableBatchNorm object at 0x000001D4EC60EE20>, because it is not built.\n",
      "W1020 22:37:19.727353  6048 save_impl.py:71] Skipping full serialization of Keras layer <object_detection.core.freezable_batch_norm.FreezableBatchNorm object at 0x000001D4EC60EE20>, because it is not built.\n",
      "WARNING:tensorflow:Skipping full serialization of Keras layer <keras.layers.core.lambda_layer.Lambda object at 0x000001D4EDC12D30>, because it is not built.\n",
      "W1020 22:37:19.727353  6048 save_impl.py:71] Skipping full serialization of Keras layer <keras.layers.core.lambda_layer.Lambda object at 0x000001D4EDC12D30>, because it is not built.\n",
      "WARNING:tensorflow:Skipping full serialization of Keras layer <object_detection.core.freezable_batch_norm.FreezableBatchNorm object at 0x000001D4EE1DE280>, because it is not built.\n",
      "W1020 22:37:19.727353  6048 save_impl.py:71] Skipping full serialization of Keras layer <object_detection.core.freezable_batch_norm.FreezableBatchNorm object at 0x000001D4EE1DE280>, because it is not built.\n",
      "WARNING:tensorflow:Skipping full serialization of Keras layer <keras.layers.core.lambda_layer.Lambda object at 0x000001D4EE1DE340>, because it is not built.\n",
      "W1020 22:37:19.727353  6048 save_impl.py:71] Skipping full serialization of Keras layer <keras.layers.core.lambda_layer.Lambda object at 0x000001D4EE1DE340>, because it is not built.\n",
      "WARNING:tensorflow:Skipping full serialization of Keras layer <object_detection.core.freezable_batch_norm.FreezableBatchNorm object at 0x000001D4EE1DE850>, because it is not built.\n",
      "W1020 22:37:19.728352  6048 save_impl.py:71] Skipping full serialization of Keras layer <object_detection.core.freezable_batch_norm.FreezableBatchNorm object at 0x000001D4EE1DE850>, because it is not built.\n",
      "WARNING:tensorflow:Skipping full serialization of Keras layer <keras.layers.core.lambda_layer.Lambda object at 0x000001D4EE1DE760>, because it is not built.\n",
      "W1020 22:37:19.728352  6048 save_impl.py:71] Skipping full serialization of Keras layer <keras.layers.core.lambda_layer.Lambda object at 0x000001D4EE1DE760>, because it is not built.\n",
      "WARNING:tensorflow:Skipping full serialization of Keras layer <object_detection.core.freezable_batch_norm.FreezableBatchNorm object at 0x000001D4EE1DEFD0>, because it is not built.\n",
      "W1020 22:37:19.728352  6048 save_impl.py:71] Skipping full serialization of Keras layer <object_detection.core.freezable_batch_norm.FreezableBatchNorm object at 0x000001D4EE1DEFD0>, because it is not built.\n",
      "WARNING:tensorflow:Skipping full serialization of Keras layer <keras.layers.core.lambda_layer.Lambda object at 0x000001D4EE1DEF40>, because it is not built.\n",
      "W1020 22:37:19.728352  6048 save_impl.py:71] Skipping full serialization of Keras layer <keras.layers.core.lambda_layer.Lambda object at 0x000001D4EE1DEF40>, because it is not built.\n",
      "WARNING:tensorflow:Skipping full serialization of Keras layer <object_detection.core.freezable_batch_norm.FreezableBatchNorm object at 0x000001D4EC60EE50>, because it is not built.\n",
      "W1020 22:37:19.728352  6048 save_impl.py:71] Skipping full serialization of Keras layer <object_detection.core.freezable_batch_norm.FreezableBatchNorm object at 0x000001D4EC60EE50>, because it is not built.\n",
      "WARNING:tensorflow:Skipping full serialization of Keras layer <keras.layers.core.lambda_layer.Lambda object at 0x000001D4EC81E370>, because it is not built.\n",
      "W1020 22:37:19.729345  6048 save_impl.py:71] Skipping full serialization of Keras layer <keras.layers.core.lambda_layer.Lambda object at 0x000001D4EC81E370>, because it is not built.\n",
      "WARNING:tensorflow:Skipping full serialization of Keras layer <object_detection.core.freezable_batch_norm.FreezableBatchNorm object at 0x000001D4EDB98550>, because it is not built.\n",
      "W1020 22:37:19.729345  6048 save_impl.py:71] Skipping full serialization of Keras layer <object_detection.core.freezable_batch_norm.FreezableBatchNorm object at 0x000001D4EDB98550>, because it is not built.\n",
      "WARNING:tensorflow:Skipping full serialization of Keras layer <keras.layers.core.lambda_layer.Lambda object at 0x000001D4EDB98910>, because it is not built.\n",
      "W1020 22:37:19.729345  6048 save_impl.py:71] Skipping full serialization of Keras layer <keras.layers.core.lambda_layer.Lambda object at 0x000001D4EDB98910>, because it is not built.\n",
      "WARNING:tensorflow:Skipping full serialization of Keras layer <object_detection.core.freezable_batch_norm.FreezableBatchNorm object at 0x000001D4EE021670>, because it is not built.\n",
      "W1020 22:37:19.729345  6048 save_impl.py:71] Skipping full serialization of Keras layer <object_detection.core.freezable_batch_norm.FreezableBatchNorm object at 0x000001D4EE021670>, because it is not built.\n",
      "WARNING:tensorflow:Skipping full serialization of Keras layer <keras.layers.core.lambda_layer.Lambda object at 0x000001D4EE0214F0>, because it is not built.\n",
      "W1020 22:37:19.729345  6048 save_impl.py:71] Skipping full serialization of Keras layer <keras.layers.core.lambda_layer.Lambda object at 0x000001D4EE0214F0>, because it is not built.\n",
      "WARNING:tensorflow:Skipping full serialization of Keras layer <object_detection.core.freezable_batch_norm.FreezableBatchNorm object at 0x000001D4EE0212E0>, because it is not built.\n",
      "W1020 22:37:19.730351  6048 save_impl.py:71] Skipping full serialization of Keras layer <object_detection.core.freezable_batch_norm.FreezableBatchNorm object at 0x000001D4EE0212E0>, because it is not built.\n",
      "WARNING:tensorflow:Skipping full serialization of Keras layer <keras.layers.core.lambda_layer.Lambda object at 0x000001D4EE0215E0>, because it is not built.\n",
      "W1020 22:37:19.730351  6048 save_impl.py:71] Skipping full serialization of Keras layer <keras.layers.core.lambda_layer.Lambda object at 0x000001D4EE0215E0>, because it is not built.\n",
      "WARNING:tensorflow:Skipping full serialization of Keras layer <object_detection.core.freezable_batch_norm.FreezableBatchNorm object at 0x000001D4EC60EE80>, because it is not built.\n",
      "W1020 22:37:19.730351  6048 save_impl.py:71] Skipping full serialization of Keras layer <object_detection.core.freezable_batch_norm.FreezableBatchNorm object at 0x000001D4EC60EE80>, because it is not built.\n",
      "WARNING:tensorflow:Skipping full serialization of Keras layer <keras.layers.core.lambda_layer.Lambda object at 0x000001D4EE1D9430>, because it is not built.\n",
      "W1020 22:37:19.730351  6048 save_impl.py:71] Skipping full serialization of Keras layer <keras.layers.core.lambda_layer.Lambda object at 0x000001D4EE1D9430>, because it is not built.\n",
      "WARNING:tensorflow:Skipping full serialization of Keras layer <object_detection.core.freezable_batch_norm.FreezableBatchNorm object at 0x000001D4EDC03280>, because it is not built.\n",
      "W1020 22:37:19.731365  6048 save_impl.py:71] Skipping full serialization of Keras layer <object_detection.core.freezable_batch_norm.FreezableBatchNorm object at 0x000001D4EDC03280>, because it is not built.\n",
      "WARNING:tensorflow:Skipping full serialization of Keras layer <keras.layers.core.lambda_layer.Lambda object at 0x000001D4EDC03EE0>, because it is not built.\n",
      "W1020 22:37:19.731365  6048 save_impl.py:71] Skipping full serialization of Keras layer <keras.layers.core.lambda_layer.Lambda object at 0x000001D4EDC03EE0>, because it is not built.\n",
      "WARNING:tensorflow:Skipping full serialization of Keras layer <object_detection.core.freezable_batch_norm.FreezableBatchNorm object at 0x000001D4EDC03AC0>, because it is not built.\n",
      "W1020 22:37:19.731365  6048 save_impl.py:71] Skipping full serialization of Keras layer <object_detection.core.freezable_batch_norm.FreezableBatchNorm object at 0x000001D4EDC03AC0>, because it is not built.\n",
      "WARNING:tensorflow:Skipping full serialization of Keras layer <keras.layers.core.lambda_layer.Lambda object at 0x000001D4EDC03D60>, because it is not built.\n",
      "W1020 22:37:19.731891  6048 save_impl.py:71] Skipping full serialization of Keras layer <keras.layers.core.lambda_layer.Lambda object at 0x000001D4EDC03D60>, because it is not built.\n",
      "WARNING:tensorflow:Skipping full serialization of Keras layer <object_detection.core.freezable_batch_norm.FreezableBatchNorm object at 0x000001D4EDC036D0>, because it is not built.\n",
      "W1020 22:37:19.731891  6048 save_impl.py:71] Skipping full serialization of Keras layer <object_detection.core.freezable_batch_norm.FreezableBatchNorm object at 0x000001D4EDC036D0>, because it is not built.\n",
      "WARNING:tensorflow:Skipping full serialization of Keras layer <keras.layers.core.lambda_layer.Lambda object at 0x000001D4EDC03970>, because it is not built.\n",
      "W1020 22:37:19.731891  6048 save_impl.py:71] Skipping full serialization of Keras layer <keras.layers.core.lambda_layer.Lambda object at 0x000001D4EDC03970>, because it is not built.\n",
      "WARNING:tensorflow:Skipping full serialization of Keras layer <object_detection.core.freezable_batch_norm.FreezableBatchNorm object at 0x000001D4EDD66970>, because it is not built.\n",
      "W1020 22:37:19.731891  6048 save_impl.py:71] Skipping full serialization of Keras layer <object_detection.core.freezable_batch_norm.FreezableBatchNorm object at 0x000001D4EDD66970>, because it is not built.\n",
      "WARNING:tensorflow:Skipping full serialization of Keras layer <keras.layers.core.lambda_layer.Lambda object at 0x000001D4EDD66100>, because it is not built.\n",
      "W1020 22:37:19.731891  6048 save_impl.py:71] Skipping full serialization of Keras layer <keras.layers.core.lambda_layer.Lambda object at 0x000001D4EDD66100>, because it is not built.\n",
      "WARNING:tensorflow:Skipping full serialization of Keras layer <object_detection.core.freezable_batch_norm.FreezableBatchNorm object at 0x000001D4EE159A30>, because it is not built.\n",
      "W1020 22:37:19.732916  6048 save_impl.py:71] Skipping full serialization of Keras layer <object_detection.core.freezable_batch_norm.FreezableBatchNorm object at 0x000001D4EE159A30>, because it is not built.\n",
      "WARNING:tensorflow:Skipping full serialization of Keras layer <keras.layers.core.lambda_layer.Lambda object at 0x000001D4EE1597F0>, because it is not built.\n",
      "W1020 22:37:19.732916  6048 save_impl.py:71] Skipping full serialization of Keras layer <keras.layers.core.lambda_layer.Lambda object at 0x000001D4EE1597F0>, because it is not built.\n",
      "WARNING:tensorflow:Skipping full serialization of Keras layer <object_detection.core.freezable_batch_norm.FreezableBatchNorm object at 0x000001D4EE159670>, because it is not built.\n",
      "W1020 22:37:19.732916  6048 save_impl.py:71] Skipping full serialization of Keras layer <object_detection.core.freezable_batch_norm.FreezableBatchNorm object at 0x000001D4EE159670>, because it is not built.\n",
      "WARNING:tensorflow:Skipping full serialization of Keras layer <keras.layers.core.lambda_layer.Lambda object at 0x000001D4EE159700>, because it is not built.\n",
      "W1020 22:37:19.732916  6048 save_impl.py:71] Skipping full serialization of Keras layer <keras.layers.core.lambda_layer.Lambda object at 0x000001D4EE159700>, because it is not built.\n",
      "WARNING:tensorflow:Skipping full serialization of Keras layer <object_detection.core.freezable_batch_norm.FreezableBatchNorm object at 0x000001D4EF40E5E0>, because it is not built.\n",
      "W1020 22:37:19.732916  6048 save_impl.py:71] Skipping full serialization of Keras layer <object_detection.core.freezable_batch_norm.FreezableBatchNorm object at 0x000001D4EF40E5E0>, because it is not built.\n",
      "WARNING:tensorflow:Skipping full serialization of Keras layer <keras.layers.core.lambda_layer.Lambda object at 0x000001D4EF40E7F0>, because it is not built.\n",
      "W1020 22:37:19.733916  6048 save_impl.py:71] Skipping full serialization of Keras layer <keras.layers.core.lambda_layer.Lambda object at 0x000001D4EF40E7F0>, because it is not built.\n",
      "W1020 22:38:02.694861  6048 save.py:233] Found untraced functions such as WeightSharedConvolutionalBoxPredictor_layer_call_fn, WeightSharedConvolutionalBoxPredictor_layer_call_and_return_conditional_losses, WeightSharedConvolutionalBoxHead_layer_call_fn, WeightSharedConvolutionalBoxHead_layer_call_and_return_conditional_losses, WeightSharedConvolutionalClassHead_layer_call_fn while saving (showing 5 of 173). These functions will not be directly callable after loading.\n",
      "INFO:tensorflow:Assets written to: Tensorflow\\workspace\\models\\my_ssd_mobnet\\tfliteexport\\saved_model\\assets\n",
      "I1020 22:38:15.592109  6048 builder_impl.py:779] Assets written to: Tensorflow\\workspace\\models\\my_ssd_mobnet\\tfliteexport\\saved_model\\assets\n"
     ]
    }
   ],
   "source": [
    "!{command}"
   ]
  },
  {
   "cell_type": "code",
   "execution_count": 11,
   "metadata": {
    "id": "iJfYMbN6pfDL"
   },
   "outputs": [],
   "source": [
    "FROZEN_TFLITE_PATH = os.path.join(paths['TFLITE_PATH'], 'saved_model')\n",
    "TFLITE_MODEL = os.path.join(paths['TFLITE_PATH'], 'saved_model', 'license_detect.tflite')"
   ]
  },
  {
   "cell_type": "code",
   "execution_count": 12,
   "metadata": {},
   "outputs": [],
   "source": [
    "command = \"tflite_convert \\\n",
    "--saved_model_dir={} \\\n",
    "--output_file={} \\\n",
    "--input_shapes=1,300,300,3 \\\n",
    "--input_arrays=normalized_input_image_tensor \\\n",
    "--output_arrays='TFLite_Detection_PostProcess','TFLite_Detection_PostProcess:1','TFLite_Detection_PostProcess:2','TFLite_Detection_PostProcess:3' \\\n",
    "--inference_type=FLOAT \\\n",
    "--allow_custom_ops\".format(FROZEN_TFLITE_PATH, TFLITE_MODEL, )"
   ]
  },
  {
   "cell_type": "code",
   "execution_count": 13,
   "metadata": {
    "colab": {
     "base_uri": "https://localhost:8080/"
    },
    "id": "E8GwUeoFpfDL",
    "outputId": "fac43ea4-cc85-471b-a362-e994b06fd583"
   },
   "outputs": [
    {
     "name": "stdout",
     "output_type": "stream",
     "text": [
      "tflite_convert --saved_model_dir=Tensorflow\\workspace\\models\\my_ssd_mobnet\\tfliteexport\\saved_model --output_file=Tensorflow\\workspace\\models\\my_ssd_mobnet\\tfliteexport\\saved_model\\license_detect.tflite --input_shapes=1,300,300,3 --input_arrays=normalized_input_image_tensor --output_arrays='TFLite_Detection_PostProcess','TFLite_Detection_PostProcess:1','TFLite_Detection_PostProcess:2','TFLite_Detection_PostProcess:3' --inference_type=FLOAT --allow_custom_ops\n"
     ]
    }
   ],
   "source": [
    "print(command)"
   ]
  },
  {
   "cell_type": "code",
   "execution_count": 14,
   "metadata": {
    "colab": {
     "base_uri": "https://localhost:8080/"
    },
    "id": "Nbd7gqHMpfDL",
    "outputId": "7c8fe6d5-2415-4641-8548-39d425c202f7"
   },
   "outputs": [
    {
     "name": "stdout",
     "output_type": "stream",
     "text": [
      "Estimated count of arithmetic ops: 1.698 G  ops, equivalently 0.849 G  MACs\n"
     ]
    },
    {
     "name": "stderr",
     "output_type": "stream",
     "text": [
      "2023-10-20 22:38:31.221703: W tensorflow/stream_executor/platform/default/dso_loader.cc:64] Could not load dynamic library 'cudart64_110.dll'; dlerror: cudart64_110.dll not found\n",
      "2023-10-20 22:38:31.221796: I tensorflow/stream_executor/cuda/cudart_stub.cc:29] Ignore above cudart dlerror if you do not have a GPU set up on your machine.\n",
      "2023-10-20 22:38:39.502790: W external/org_tensorflow/tensorflow/stream_executor/platform/default/dso_loader.cc:64] Could not load dynamic library 'cudart64_110.dll'; dlerror: cudart64_110.dll not found\n",
      "2023-10-20 22:38:39.517215: W external/org_tensorflow/tensorflow/stream_executor/platform/default/dso_loader.cc:64] Could not load dynamic library 'cudart64_110.dll'; dlerror: cudart64_110.dll not found\n",
      "2023-10-20 22:38:46.459402: W tensorflow/stream_executor/platform/default/dso_loader.cc:64] Could not load dynamic library 'nvcuda.dll'; dlerror: nvcuda.dll not found\n",
      "2023-10-20 22:38:46.459495: W tensorflow/stream_executor/cuda/cuda_driver.cc:269] failed call to cuInit: UNKNOWN ERROR (303)\n",
      "2023-10-20 22:38:46.470413: I tensorflow/stream_executor/cuda/cuda_diagnostics.cc:169] retrieving CUDA diagnostic information for host: HpLaptop\n",
      "2023-10-20 22:38:46.470739: I tensorflow/stream_executor/cuda/cuda_diagnostics.cc:176] hostname: HpLaptop\n",
      "2023-10-20 22:38:47.664899: I tensorflow/core/platform/cpu_feature_guard.cc:193] This TensorFlow binary is optimized with oneAPI Deep Neural Network Library (oneDNN) to use the following CPU instructions in performance-critical operations:  AVX AVX2\n",
      "To enable them in other operations, rebuild TensorFlow with the appropriate compiler flags.\n",
      "2023-10-20 22:39:17.533665: W tensorflow/compiler/mlir/lite/python/tf_tfl_flatbuffer_helpers.cc:362] Ignored output_format.\n",
      "2023-10-20 22:39:17.533753: W tensorflow/compiler/mlir/lite/python/tf_tfl_flatbuffer_helpers.cc:365] Ignored drop_control_dependency.\n",
      "2023-10-20 22:39:17.539230: I tensorflow/cc/saved_model/reader.cc:43] Reading SavedModel from: Tensorflow\\workspace\\models\\my_ssd_mobnet\\tfliteexport\\saved_model\n",
      "2023-10-20 22:39:17.731068: I tensorflow/cc/saved_model/reader.cc:81] Reading meta graph with tags { serve }\n",
      "2023-10-20 22:39:17.731174: I tensorflow/cc/saved_model/reader.cc:122] Reading SavedModel debug info (if present) from: Tensorflow\\workspace\\models\\my_ssd_mobnet\\tfliteexport\\saved_model\n",
      "2023-10-20 22:39:18.299125: I tensorflow/compiler/mlir/mlir_graph_optimization_pass.cc:354] MLIR V1 optimization pass is not enabled\n",
      "2023-10-20 22:39:18.389402: I tensorflow/cc/saved_model/loader.cc:228] Restoring SavedModel bundle.\n",
      "2023-10-20 22:39:20.683684: I tensorflow/cc/saved_model/loader.cc:212] Running initialization op on SavedModel bundle at path: Tensorflow\\workspace\\models\\my_ssd_mobnet\\tfliteexport\\saved_model\n",
      "2023-10-20 22:39:21.711549: I tensorflow/cc/saved_model/loader.cc:301] SavedModel load for tags { serve }; Status: success: OK. Took 4172304 microseconds.\n",
      "2023-10-20 22:39:23.459311: I tensorflow/compiler/mlir/tensorflow/utils/dump_mlir_util.cc:263] disabling MLIR crash reproducer, set env var `MLIR_CRASH_REPRODUCER_DIRECTORY` to enable.\n",
      "2023-10-20 22:39:25.578118: I tensorflow/compiler/mlir/lite/flatbuffer_export.cc:1972] Estimated count of arithmetic ops: 1.698 G  ops, equivalently 0.849 G  MACs\n",
      "\n"
     ]
    }
   ],
   "source": [
    "!{command}"
   ]
  },
  {
   "cell_type": "markdown",
   "metadata": {
    "id": "5NQqZRdA21Uc"
   },
   "source": [
    "# 13. Zip and Export Models "
   ]
  },
  {
   "cell_type": "code",
   "execution_count": null,
   "metadata": {
    "id": "tTVTGCQp2ZJJ"
   },
   "outputs": [],
   "source": [
    "!tar -czf models.tar.gz {paths['CHECKPOINT_PATH']}"
   ]
  },
  {
   "cell_type": "code",
   "execution_count": null,
   "metadata": {
    "colab": {
     "base_uri": "https://localhost:8080/"
    },
    "id": "whShhB0x3PYJ",
    "outputId": "b773201d-35c9-46a8-b893-4a76bd4d5d97"
   },
   "outputs": [],
   "source": [
    "from google.colab import drive\n",
    "drive.mount('/content/drive')"
   ]
  },
  {
   "cell_type": "markdown",
   "metadata": {},
   "source": [
    "##"
   ]
  }
 ],
 "metadata": {
  "accelerator": "GPU",
  "colab": {
   "name": "3. Training and Detection.ipynb",
   "provenance": []
  },
  "kernelspec": {
   "display_name": "Python 3 (ipykernel)",
   "language": "python",
   "name": "python3"
  },
  "language_info": {
   "codemirror_mode": {
    "name": "ipython",
    "version": 3
   },
   "file_extension": ".py",
   "mimetype": "text/x-python",
   "name": "python",
   "nbconvert_exporter": "python",
   "pygments_lexer": "ipython3",
   "version": "3.8.18"
  }
 },
 "nbformat": 4,
 "nbformat_minor": 1
}
